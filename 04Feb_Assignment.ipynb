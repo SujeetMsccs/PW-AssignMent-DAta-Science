{
 "cells": [
  {
   "cell_type": "code",
   "execution_count": 5,
   "id": "87f1ef2c-fefa-407b-9197-017e76d3f3ea",
   "metadata": {},
   "outputs": [],
   "source": [
    "#Q1. create a python program to sort the to given list of tuples based on intiger value using a lambada function\n",
    "#[('Sachin Tendulkar', 34357), ('Ricky Ponting', 27483), ('Jack Kallis', 25534), ('Virat Kohli', 24936)]\n"
   ]
  },
  {
   "cell_type": "code",
   "execution_count": 9,
   "id": "6f978c7c-2bdb-4217-85ae-5eaa1168eb39",
   "metadata": {},
   "outputs": [],
   "source": [
    "l1=[(\"Sachin Tendulkar\", 34357), ('Ricki Ponting', 27483),\n",
    "   (\"Jack Kallis\", 25534), ('Virat Kohli', 24936)]"
   ]
  },
  {
   "cell_type": "code",
   "execution_count": 10,
   "id": "f206af1a-eec4-48ef-b68a-26d186864cf9",
   "metadata": {},
   "outputs": [
    {
     "data": {
      "text/plain": [
       "[('Virat Kohli', 24936),\n",
       " ('Jack Kallis', 25534),\n",
       " ('Ricki Ponting', 27483),\n",
       " ('Sachin Tendulkar', 34357)]"
      ]
     },
     "execution_count": 10,
     "metadata": {},
     "output_type": "execute_result"
    }
   ],
   "source": [
    "sorted(l1, key=lambda x: x[1]) # using sorted key word smaller  to bigger with lambda function "
   ]
  },
  {
   "cell_type": "code",
   "execution_count": 11,
   "id": "ad950421-617d-4d70-aeb5-285070f97d34",
   "metadata": {},
   "outputs": [
    {
     "data": {
      "text/plain": [
       "[('Sachin Tendulkar', 34357),\n",
       " ('Ricki Ponting', 27483),\n",
       " ('Jack Kallis', 25534),\n",
       " ('Virat Kohli', 24936)]"
      ]
     },
     "execution_count": 11,
     "metadata": {},
     "output_type": "execute_result"
    }
   ],
   "source": [
    "#decending\n",
    "sorted(l1, key=lambda x: x[1], reverse=True)"
   ]
  },
  {
   "cell_type": "code",
   "execution_count": 13,
   "id": "4005036a-581d-4b4d-9a44-9b090a57d4b8",
   "metadata": {},
   "outputs": [],
   "source": [
    "#Q2.  Write a Python Program to find the squares of all the numbers in the given list of integers using\n",
    "#lambda and map functions.\n",
    "#[1, 2, 3, 4, 5, 6, 7, 8, 9, 10]"
   ]
  },
  {
   "cell_type": "code",
   "execution_count": 15,
   "id": "d64a1f36-c765-40a3-9957-5b6d095c45c6",
   "metadata": {},
   "outputs": [
    {
     "data": {
      "text/plain": [
       "[1, 4, 9, 16, 25, 36, 49, 64, 81, 100]"
      ]
     },
     "execution_count": 15,
     "metadata": {},
     "output_type": "execute_result"
    }
   ],
   "source": [
    "l2=[1,2,3,4,5,6,7,8,9,10] \n",
    "l3=list(map(lambda x: x**2, l2)) \n",
    "l3"
   ]
  },
  {
   "cell_type": "code",
   "execution_count": 16,
   "id": "927318a2-d87f-47c9-8c15-5f8b2f69baf9",
   "metadata": {},
   "outputs": [],
   "source": [
    "#Q3. Write a python program to convert the given list of integers into a tuple of strings. Use map and lambda functions\n",
    "#Given String: [1, 2, 3, 4, 5, 6, 7, 8, 9, 10]\n",
    "#Expected output: ('1', '2', '3', '4', '5', '6', '7', '8', '9', '10')"
   ]
  },
  {
   "cell_type": "code",
   "execution_count": 17,
   "id": "b8e91e95-7830-4011-89a7-6471056ae3f8",
   "metadata": {},
   "outputs": [
    {
     "data": {
      "text/plain": [
       "['1', '2', '3', '4', '5', '6', '7', '8', '9', '10']"
      ]
     },
     "execution_count": 17,
     "metadata": {},
     "output_type": "execute_result"
    }
   ],
   "source": [
    "l2=[1,2,3,4,5,6,7,8,9,10] \n",
    "list(map(lambda x: str(x), l2)) "
   ]
  },
  {
   "cell_type": "code",
   "execution_count": 30,
   "id": "57df8d11-4bce-4862-bd88-76dc173949ae",
   "metadata": {},
   "outputs": [],
   "source": [
    "#Q4. Write a python program using reduce function to compute the product of a list containing numbers  from 1 to 25."
   ]
  },
  {
   "cell_type": "code",
   "execution_count": 31,
   "id": "fca3dce1-2fc4-4503-ae98-88c8d1c6d963",
   "metadata": {},
   "outputs": [
    {
     "name": "stdout",
     "output_type": "stream",
     "text": [
      "15511210043330985984000000\n"
     ]
    }
   ],
   "source": [
    "from functools import reduce\n",
    "\n",
    "numbers = range(1, 26)\n",
    "product = reduce(lambda x, y: x * y, numbers)\n",
    "\n",
    "print(product)\n"
   ]
  },
  {
   "cell_type": "code",
   "execution_count": 29,
   "id": "6bdbd20c-bd40-428f-b352-1863f1594b1f",
   "metadata": {},
   "outputs": [],
   "source": [
    "#Q5. Write a python program to filter the numbers in a given list that are divisible by 2 and 3 using the filter function.\n",
    "#[2, 3, 6, 9, 27, 60, 90, 120, 55, 46]"
   ]
  },
  {
   "cell_type": "code",
   "execution_count": 24,
   "id": "1c92225a-94b0-49dd-b79c-04d4793d563c",
   "metadata": {},
   "outputs": [
    {
     "data": {
      "text/plain": [
       "[6, 60, 90, 120]"
      ]
     },
     "execution_count": 24,
     "metadata": {},
     "output_type": "execute_result"
    }
   ],
   "source": [
    "l3=[2,3,6,9,27,60,90,120,55, 46] \n",
    "\n",
    "list(filter(lambda x:  x%2==0 and x%3==0, l3)) "
   ]
  },
  {
   "cell_type": "code",
   "execution_count": 25,
   "id": "b941dce7-3d85-47aa-ae95-0128ff7e88a7",
   "metadata": {},
   "outputs": [],
   "source": [
    "#Q6. Write a python program to find palindromes in the given list of strings using lambda and filter function.\n",
    "#['python', 'php', 'aba', 'radar', 'level']"
   ]
  },
  {
   "cell_type": "code",
   "execution_count": 27,
   "id": "fa21ca59-b86d-4722-b5eb-7f4da6c1fa18",
   "metadata": {},
   "outputs": [
    {
     "data": {
      "text/plain": [
       "['php', 'aba', 'radar', 'level']"
      ]
     },
     "execution_count": 27,
     "metadata": {},
     "output_type": "execute_result"
    }
   ],
   "source": [
    "l4=['python', 'php', 'aba','radar', 'level']\n",
    "list(filter(lambda x : x==x[::-1], l4))"
   ]
  },
  {
   "cell_type": "code",
   "execution_count": null,
   "id": "dd14c964-c151-4d63-8d63-64dfc162bf43",
   "metadata": {},
   "outputs": [],
   "source": []
  }
 ],
 "metadata": {
  "kernelspec": {
   "display_name": "Python 3 (ipykernel)",
   "language": "python",
   "name": "python3"
  },
  "language_info": {
   "codemirror_mode": {
    "name": "ipython",
    "version": 3
   },
   "file_extension": ".py",
   "mimetype": "text/x-python",
   "name": "python",
   "nbconvert_exporter": "python",
   "pygments_lexer": "ipython3",
   "version": "3.10.8"
  }
 },
 "nbformat": 4,
 "nbformat_minor": 5
}
