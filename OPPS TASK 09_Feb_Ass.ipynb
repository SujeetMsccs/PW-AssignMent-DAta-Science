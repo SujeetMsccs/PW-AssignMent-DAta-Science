{
 "cells": [
  {
   "cell_type": "markdown",
   "id": "55215ccf-187d-44bc-9b8e-7ca3303b06aa",
   "metadata": {},
   "source": [
    "Q1, Create a vehicle class with an init method having instance variables as name_of_vehicle, max_speed\n",
    "and average_of_vehicle."
   ]
  },
  {
   "cell_type": "code",
   "execution_count": 2,
   "id": "58897bff-f0ee-4b6d-b4b2-41145531cdde",
   "metadata": {},
   "outputs": [],
   "source": [
    "class vehicle:\n",
    "    def __init__(self,name_of_vehicle,max_speed,average_of_vehicle):\n",
    "        self.name_of_vehicle = name_of_vehicle\n",
    "        self.max_speed = max_speed\n",
    "        self.average_of_vehicle = average_of_vehicle"
   ]
  },
  {
   "cell_type": "raw",
   "id": "44464bcf-fcff-4785-920a-bdf3fdd85c41",
   "metadata": {},
   "source": [
    "Q2. Create a child class car from the vehicle class created in Que 1, which will inherit the vehicle class.\n",
    "Create a method named seating_capacity which takes capacity as an argument and returns the name of\n",
    "the vehicle and its seating capacity."
   ]
  },
  {
   "cell_type": "code",
   "execution_count": 4,
   "id": "d8e6eb15-e055-4344-9d87-ba63de259e3d",
   "metadata": {},
   "outputs": [
    {
     "data": {
      "text/plain": [
       "('Baleno', 5)"
      ]
     },
     "execution_count": 4,
     "metadata": {},
     "output_type": "execute_result"
    }
   ],
   "source": [
    "class car(vehicle):\n",
    "    def seating_capacity(self,capacity):\n",
    "        return self.name_of_vehicle, capacity\n",
    "#execution of problem 2\n",
    "mycar = car('Baleno',100,25)\n",
    "mycar.seating_capacity(5)"
   ]
  },
  {
   "cell_type": "raw",
   "id": "ebffeac5-767e-4030-b7b7-42aeb262b4a3",
   "metadata": {},
   "source": [
    "Q3. What is multiple inheritance? Write a python code to demonstrate multiple inheritance."
   ]
  },
  {
   "cell_type": "code",
   "execution_count": 6,
   "id": "6dbd923b-1740-4d94-8e0c-ada34ec9a58c",
   "metadata": {},
   "outputs": [
    {
     "name": "stdout",
     "output_type": "stream",
     "text": [
      "Father genes\n",
      "Mother genes\n"
     ]
    }
   ],
   "source": [
    "class p1:\n",
    "    def f1(self):\n",
    "        return'Father genes'\n",
    "class p2:\n",
    "    def f2(self):\n",
    "        return'Mother genes'\n",
    "class child(p1,p2):\n",
    "    pass\n",
    "obj1 = child()\n",
    "print(obj1.f1())\n",
    "print(obj1.f2())"
   ]
  },
  {
   "cell_type": "raw",
   "id": "2ab9bb84-e308-4400-9ba5-7c015ed15aad",
   "metadata": {},
   "source": [
    "Q4. What are getter and setter in python? Create a class and create a getter and a setter method in this\n",
    "class."
   ]
  },
  {
   "cell_type": "raw",
   "id": "fed7e21a-2bd8-4778-be8a-5c749716e7ac",
   "metadata": {},
   "source": [
    "In Python, getter and setter methods are used to control access to an object's attributes. A getter method returns the value of an attribute, and a setter method sets the value of an attribute.\n",
    "\n",
    "Here's an example implementation of a class Person with a name attribute and corresponding getter and setter methods:"
   ]
  },
  {
   "cell_type": "code",
   "execution_count": 7,
   "id": "c128d4f9-699f-4d74-8e15-a16d9e14db27",
   "metadata": {},
   "outputs": [],
   "source": [
    "class open_bank_account:\n",
    "    def __init__(self,name):\n",
    "        self.__balance = 0 ## A private variable of\n",
    "        self.name = name\n",
    "        print('account apened successfuly, Current Balce = Rs 0')\n",
    "    @property   ### Getter Method\n",
    "    def balance(self):\n",
    "        print( 'Rs', self.__balance)\n",
    "    @balance.setter   ### Setter method  \n",
    "    def deposit(self,amount):\n",
    "        if amount <= 100:\n",
    "            print('Error - Min. value for deposit should be Rs 100')\n",
    "        else:\n",
    "            self.__balance += amount\n",
    "            print(f'Rs {amount} deposited successfully in your bank account ')\n",
    "    @balance.setter\n",
    "    def withdraw(self,amount):\n",
    "        if amount > self.__balance:\n",
    "            print('Error - Not enough Balance in your account')\n",
    "        else:\n",
    "            self.__balance -= amount\n",
    "            print(f'Rs {amount} withdrawn succesfully')"
   ]
  },
  {
   "cell_type": "code",
   "execution_count": 8,
   "id": "1381cbe6-38aa-4c3e-b3b5-da6d1639fe04",
   "metadata": {},
   "outputs": [
    {
     "name": "stdout",
     "output_type": "stream",
     "text": [
      "account apened successfuly, Current Balce = Rs 0\n"
     ]
    }
   ],
   "source": [
    "myacc = open_bank_account('Sujeet kumar')"
   ]
  },
  {
   "cell_type": "code",
   "execution_count": 10,
   "id": "bed9b74d-7b74-467f-86db-efdcaf78cf26",
   "metadata": {},
   "outputs": [
    {
     "name": "stdout",
     "output_type": "stream",
     "text": [
      "Rs 50000 deposited successfully in your bank account \n"
     ]
    }
   ],
   "source": [
    "myacc.deposit = 50000"
   ]
  },
  {
   "cell_type": "code",
   "execution_count": 11,
   "id": "c1bbb45e-cee4-4ade-874a-9527ef0e1138",
   "metadata": {},
   "outputs": [
    {
     "name": "stdout",
     "output_type": "stream",
     "text": [
      "Rs 60000\n"
     ]
    }
   ],
   "source": [
    "myacc.balance"
   ]
  },
  {
   "cell_type": "code",
   "execution_count": 12,
   "id": "0a1997e7-b9f8-43c4-8993-ff38a3b99bb0",
   "metadata": {},
   "outputs": [
    {
     "name": "stdout",
     "output_type": "stream",
     "text": [
      "Rs 5000 withdrawn succesfully\n"
     ]
    }
   ],
   "source": [
    "myacc.withdraw = 5000"
   ]
  },
  {
   "cell_type": "code",
   "execution_count": 13,
   "id": "f059ec7a-fe8a-45a6-beaa-08dc499aab7d",
   "metadata": {},
   "outputs": [
    {
     "name": "stdout",
     "output_type": "stream",
     "text": [
      "Rs 55000\n"
     ]
    }
   ],
   "source": [
    "myacc.balance"
   ]
  },
  {
   "cell_type": "code",
   "execution_count": null,
   "id": "6b12314a-ab3c-49f1-8659-8806699ee984",
   "metadata": {},
   "outputs": [],
   "source": [
    "Q5.What is method overriding in python? Write a python code to demonstrate method overriding."
   ]
  }
 ],
 "metadata": {
  "kernelspec": {
   "display_name": "Python 3 (ipykernel)",
   "language": "python",
   "name": "python3"
  },
  "language_info": {
   "codemirror_mode": {
    "name": "ipython",
    "version": 3
   },
   "file_extension": ".py",
   "mimetype": "text/x-python",
   "name": "python",
   "nbconvert_exporter": "python",
   "pygments_lexer": "ipython3",
   "version": "3.10.8"
  }
 },
 "nbformat": 4,
 "nbformat_minor": 5
}
