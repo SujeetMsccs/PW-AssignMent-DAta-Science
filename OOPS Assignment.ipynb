{
 "cells": [
  {
   "cell_type": "raw",
   "id": "83c1fd8c-9d12-4bc9-a641-5db52f319ed7",
   "metadata": {},
   "source": [
    "Q1. What is Abstraction in OOps? Explain with an example."
   ]
  },
  {
   "cell_type": "raw",
   "id": "9f82ef91-7717-4489-936a-b8ba6a9ce1e9",
   "metadata": {},
   "source": [
    "Abstraction in OOP is the process of hiding complex implementation details of a class or object, and only exposing the necessary functionalities to the user.\n",
    "\n",
    "For example, consider a car as an object. As a user, we know that we can drive it, turn it on/off, and change its gears. However, we do not need to know the underlying mechanism of how the car works, such as the combustion engine or the transmission system. This is an example of abstraction, where the car's internal workings are abstracted away, and only the necessary functionalities are exposed to the user.\n",
    "\n",
    "In OOP, abstraction is achieved through the use of abstract classes and interfaces, where the abstract class defines the necessary functionalities, and the concrete classes implement them."
   ]
  },
  {
   "cell_type": "code",
   "execution_count": 2,
   "id": "b488a00f-f7e1-47dd-9c8c-7009f46cf6b5",
   "metadata": {},
   "outputs": [
    {
     "name": "stdout",
     "output_type": "stream",
     "text": [
      "Mileage is 75 km/l\n",
      "Mileage is 52 km/l\n",
      "colour is Blue\n",
      "Color is Red\n"
     ]
    }
   ],
   "source": [
    "import abc\n",
    "class car:     ### Creating a Abstract Base class for car details\n",
    "    @abc.abstractmethod\n",
    "    def mileage(self):\n",
    "        pass\n",
    "    @abc.abstractmethod\n",
    "    def colour(self):\n",
    "        pass\n",
    "    \n",
    "class baleno(car):\n",
    "    def mileage(self):\n",
    "        print('Mileage is 75 km/l')\n",
    "    def colour(self):\n",
    "        print('colour is Blue')\n",
    "        \n",
    "class scorpio(car):\n",
    "    def mileage(self):\n",
    "        print('Mileage is 52 km/l')\n",
    "    def colour(self):\n",
    "        print('Color is Red')\n",
    "        \n",
    "my_car = baleno()\n",
    "his_car = scorpio()\n",
    "my_car.mileage()\n",
    "his_car.mileage()\n",
    "my_car.colour()\n",
    "his_car.colour()"
   ]
  },
  {
   "cell_type": "raw",
   "id": "f57e520a-a10f-4d16-89bb-b1dc133c0751",
   "metadata": {},
   "source": [
    "2.Differentiate between Abstraction and Encapsulation. Explain with an example."
   ]
  },
  {
   "cell_type": "markdown",
   "id": "25ceac69-271d-42bc-adc0-bde07ea6b045",
   "metadata": {},
   "source": [
    "Abstraction is the process of hiding complex implementation details from the user, while encapsulation is the process of bundling data and methods together and restricting access to them.\n",
    "\n",
    "Example of Abstraction: A TV remote control abstracts away the complex internal workings of the TV and only exposes the necessary functionalities, such as turning it on/off, changing channels, and adjusting the volume.\n",
    "\n",
    "Example of Encapsulation: A bank account encapsulates the data (balance, account number, etc.) and methods (deposit, withdraw, etc.) together and restricts direct access to them, only allowing access through defined interfaces, such as depositing or withdrawing money through a teller or ATM."
   ]
  },
  {
   "cell_type": "code",
   "execution_count": 5,
   "id": "fbc83b39-2880-4500-ad63-80d6eb334c60",
   "metadata": {},
   "outputs": [
    {
     "name": "stdout",
     "output_type": "stream",
     "text": [
      "45\n",
      "I have 3 sides\n",
      "I have 4 sides\n",
      "I have 5 sides\n",
      "I have 6 sides\n"
     ]
    }
   ],
   "source": [
    "#example of Encapsulation\n",
    "class car:\n",
    "    def __init__(self,year,make,model,speed):\n",
    "        self.__year = year\n",
    "        self.__make = make\n",
    "        self.__model = model\n",
    "        self.__speed = 0\n",
    "    def setspeed(self,speed):\n",
    "        self.__speed = 0 if speed < 0 else speed\n",
    "    def getspeed(self):\n",
    "        print(self.__speed)\n",
    "mycar = car(2016,'Maruti Suzuki','Baleno',95)\n",
    "\"\"\" car.__speed  #can't access or edit speed variable by calling it as it is encapsuled\n",
    "but we set its value and gets its value using the functions we have created\"\"\"\n",
    "mycar.setspeed(45)\n",
    "mycar.getspeed()\n",
    "\n",
    "\n",
    "\n",
    "# example of abstraction (abstract class)\n",
    "\n",
    "from abc import ABC, abstractmethod\n",
    " \n",
    "class Polygon(ABC):\n",
    " \n",
    "    @abstractmethod\n",
    "    def noofsides(self):\n",
    "        pass\n",
    " \n",
    "class Triangle(Polygon):\n",
    " \n",
    "    # overriding abstract method\n",
    "    def noofsides(self):\n",
    "        print(\"I have 3 sides\")\n",
    " \n",
    "class Pentagon(Polygon):\n",
    " \n",
    "    # overriding abstract method\n",
    "    def noofsides(self):\n",
    "        print(\"I have 5 sides\")\n",
    " \n",
    "class Hexagon(Polygon):\n",
    " \n",
    "    # overriding abstract method\n",
    "    def noofsides(self):\n",
    "        print(\"I have 6 sides\")\n",
    " \n",
    "class Quadrilateral(Polygon):\n",
    " \n",
    "    # overriding abstract method\n",
    "    def noofsides(self):\n",
    "        print(\"I have 4 sides\")\n",
    "        # Driver code\n",
    "R = Triangle()\n",
    "R.noofsides()\n",
    " \n",
    "K = Quadrilateral()\n",
    "K.noofsides()\n",
    " \n",
    "R = Pentagon()\n",
    "R.noofsides()\n",
    " \n",
    "K = Hexagon()\n",
    "K.noofsides()\n",
    "\n",
    "        "
   ]
  },
  {
   "cell_type": "raw",
   "id": "8b49759c-08af-4e9f-a4d6-a2a07f3984bb",
   "metadata": {},
   "source": [
    "Q3. What is abc module in python? Why is it used?"
   ]
  },
  {
   "cell_type": "markdown",
   "id": "bef3098e-3ab9-4cf7-8c8a-59986261f4f0",
   "metadata": {},
   "source": [
    "The abc (Abstract Base Classes) module in Python is used to define abstract classes and interfaces, which are classes that cannot be instantiated and only serve as a blueprint for other classes to inherit from.\n",
    "\n",
    "It is used to enforce a certain structure or behavior in subclasses, making sure they implement certain methods or attributes. This helps in writing more reliable and maintainable code, as it provides a clear contract between classes and makes it easier to understand their relationships.\n",
    "\n",
    "In short, the abc module is used for defining and enforcing interfaces and abstract classes in Python."
   ]
  },
  {
   "cell_type": "raw",
   "id": "97d213d8-1fa3-43cf-a06b-21c8ec1784e4",
   "metadata": {},
   "source": [
    "Q4. How can we achieve data abstraction?"
   ]
  }
 ],
 "metadata": {
  "kernelspec": {
   "display_name": "Python 3 (ipykernel)",
   "language": "python",
   "name": "python3"
  },
  "language_info": {
   "codemirror_mode": {
    "name": "ipython",
    "version": 3
   },
   "file_extension": ".py",
   "mimetype": "text/x-python",
   "name": "python",
   "nbconvert_exporter": "python",
   "pygments_lexer": "ipython3",
   "version": "3.10.8"
  }
 },
 "nbformat": 4,
 "nbformat_minor": 5
}
