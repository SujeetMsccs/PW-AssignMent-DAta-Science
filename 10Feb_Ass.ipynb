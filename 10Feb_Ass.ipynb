{
 "cells": [
  {
   "cell_type": "raw",
   "id": "19091fbd-265f-465b-95a4-1c50c7a253d3",
   "metadata": {},
   "source": [
    "Q1. Which function is used to open a file? What are the different modes of opening a file? Explain each mode\n",
    "of file opening."
   ]
  },
  {
   "cell_type": "raw",
   "id": "2855eb36-d3d1-427d-9bb4-4203ce398b0e",
   "metadata": {},
   "source": [
    "In Python, the open() function is used to open a file. It takes two parameters - the file path and the mode in which the file is to be opened.\n",
    "\n",
    "The different modes of opening a file in Python are as follows:\n",
    "\n",
    "        r - Read mode: This mode is used to read the contents of a file. The file pointer is placed at the beginning of               the file. If the file does not exist, it raises a FileNotFoundError exception.\n",
    "\n",
    "        w - Write mode: This mode is used to write data to a file. If the file already exists, it is truncated to zero               length. If the file does not exist, a new file is created.\n",
    "\n",
    "        a - Append mode: This mode is used to append data to the end of an existing file. If the file does not exist, a n              ew file is created.\n",
    "\n",
    "        x - Exclusive creation mode: This mode is used to create a new file. If the file already exists, it raises a                 FileExistsError exception.\n",
    "\n",
    "        b - Binary mode: This mode is used to read or write binary data, such as images, audio files, etc.\n",
    "\n",
    "        t - Text mode: This mode is used to read or write text data, such as string or character data.\n",
    "\n",
    "        + - Update mode: This mode is used to allow reading and writing to a file simultaneously."
   ]
  },
  {
   "cell_type": "raw",
   "id": "19db3d9c-bf8d-4002-b436-92101edb50a0",
   "metadata": {},
   "source": [
    "Q2. Why close() function is used? Why is it important to close a file?"
   ]
  },
  {
   "cell_type": "raw",
   "id": "f015a7e9-cf40-4bf4-a485-d556710180e8",
   "metadata": {},
   "source": [
    "The close() function is used to close a file after it has been opened using the open() function. It is important to close a file because it releases the resources that were allocated to the file when it was opened, such as memory and operating system file handles. Failing to close a file can lead to data corruption, loss of data, or other problems."
   ]
  },
  {
   "cell_type": "raw",
   "id": "77d1d4d9-62ab-44b4-9636-3788f3ee1e29",
   "metadata": {},
   "source": [
    "Q3. Write a python program to create a text file. Write ‘I want to become a Data Scientist’ in that file. Then\n",
    "close the file. Open this file and read the content of the file."
   ]
  },
  {
   "cell_type": "code",
   "execution_count": 1,
   "id": "17c668e2-634b-4fdc-8fdc-56cbc93d7898",
   "metadata": {},
   "outputs": [
    {
     "name": "stdout",
     "output_type": "stream",
     "text": [
      "I want to become a Data Scientist\n"
     ]
    }
   ],
   "source": [
    "# Open the file for writing\n",
    "file = open(\"my_file.txt\", \"w\")\n",
    "\n",
    "# Write the string to the file\n",
    "file.write(\"I want to become a Data Scientist\")\n",
    "\n",
    "# Close the file\n",
    "file.close()\n",
    "\n",
    "# Open the file for reading\n",
    "file = open(\"my_file.txt\", \"r\")\n",
    "\n",
    "# Read the contents of the file\n",
    "contents = file.read()\n",
    "\n",
    "# Print the contents of the file\n",
    "print(contents)\n",
    "\n",
    "# Close the file\n",
    "file.close()\n"
   ]
  },
  {
   "cell_type": "raw",
   "id": "ca1e6f5d-64ab-4ef0-85a0-76c2c2bd210e",
   "metadata": {},
   "source": [
    "Q4. Explain the following with python code: read(), readline() and readlines()."
   ]
  },
  {
   "cell_type": "raw",
   "id": "a892b90b-e1e8-44c5-9edd-ab9bbb55ff91",
   "metadata": {},
   "source": [
    "In Python, there are several methods to read the contents of a file:\n",
    "\n",
    "read(): This method is used to read the entire contents of a file as a string.\n",
    "Syntax: file_object.read(size)\n",
    "\n",
    "Example:"
   ]
  },
  {
   "cell_type": "code",
   "execution_count": 4,
   "id": "714969c7-499e-4535-bd36-1a1405b66ee8",
   "metadata": {},
   "outputs": [
    {
     "ename": "FileNotFoundError",
     "evalue": "[Errno 2] No such file or directory: 'example.txt'",
     "output_type": "error",
     "traceback": [
      "\u001b[0;31m---------------------------------------------------------------------------\u001b[0m",
      "\u001b[0;31mFileNotFoundError\u001b[0m                         Traceback (most recent call last)",
      "Cell \u001b[0;32mIn[4], line 2\u001b[0m\n\u001b[1;32m      1\u001b[0m \u001b[38;5;66;03m# Opening a file in read mode\u001b[39;00m\n\u001b[0;32m----> 2\u001b[0m file \u001b[38;5;241m=\u001b[39m \u001b[38;5;28;43mopen\u001b[39;49m\u001b[43m(\u001b[49m\u001b[38;5;124;43m\"\u001b[39;49m\u001b[38;5;124;43mexample.txt\u001b[39;49m\u001b[38;5;124;43m\"\u001b[39;49m\u001b[43m,\u001b[49m\u001b[43m \u001b[49m\u001b[38;5;124;43m\"\u001b[39;49m\u001b[38;5;124;43mr\u001b[39;49m\u001b[38;5;124;43m\"\u001b[39;49m\u001b[43m)\u001b[49m\n\u001b[1;32m      4\u001b[0m \u001b[38;5;66;03m# Reading the entire content of the file\u001b[39;00m\n\u001b[1;32m      5\u001b[0m content \u001b[38;5;241m=\u001b[39m file\u001b[38;5;241m.\u001b[39mread()\n",
      "File \u001b[0;32m/opt/conda/lib/python3.10/site-packages/IPython/core/interactiveshell.py:282\u001b[0m, in \u001b[0;36m_modified_open\u001b[0;34m(file, *args, **kwargs)\u001b[0m\n\u001b[1;32m    275\u001b[0m \u001b[38;5;28;01mif\u001b[39;00m file \u001b[38;5;129;01min\u001b[39;00m {\u001b[38;5;241m0\u001b[39m, \u001b[38;5;241m1\u001b[39m, \u001b[38;5;241m2\u001b[39m}:\n\u001b[1;32m    276\u001b[0m     \u001b[38;5;28;01mraise\u001b[39;00m \u001b[38;5;167;01mValueError\u001b[39;00m(\n\u001b[1;32m    277\u001b[0m         \u001b[38;5;124mf\u001b[39m\u001b[38;5;124m\"\u001b[39m\u001b[38;5;124mIPython won\u001b[39m\u001b[38;5;124m'\u001b[39m\u001b[38;5;124mt let you open fd=\u001b[39m\u001b[38;5;132;01m{\u001b[39;00mfile\u001b[38;5;132;01m}\u001b[39;00m\u001b[38;5;124m by default \u001b[39m\u001b[38;5;124m\"\u001b[39m\n\u001b[1;32m    278\u001b[0m         \u001b[38;5;124m\"\u001b[39m\u001b[38;5;124mas it is likely to crash IPython. If you know what you are doing, \u001b[39m\u001b[38;5;124m\"\u001b[39m\n\u001b[1;32m    279\u001b[0m         \u001b[38;5;124m\"\u001b[39m\u001b[38;5;124myou can use builtins\u001b[39m\u001b[38;5;124m'\u001b[39m\u001b[38;5;124m open.\u001b[39m\u001b[38;5;124m\"\u001b[39m\n\u001b[1;32m    280\u001b[0m     )\n\u001b[0;32m--> 282\u001b[0m \u001b[38;5;28;01mreturn\u001b[39;00m \u001b[43mio_open\u001b[49m\u001b[43m(\u001b[49m\u001b[43mfile\u001b[49m\u001b[43m,\u001b[49m\u001b[43m \u001b[49m\u001b[38;5;241;43m*\u001b[39;49m\u001b[43margs\u001b[49m\u001b[43m,\u001b[49m\u001b[43m \u001b[49m\u001b[38;5;241;43m*\u001b[39;49m\u001b[38;5;241;43m*\u001b[39;49m\u001b[43mkwargs\u001b[49m\u001b[43m)\u001b[49m\n",
      "\u001b[0;31mFileNotFoundError\u001b[0m: [Errno 2] No such file or directory: 'example.txt'"
     ]
    }
   ],
   "source": [
    "# Opening a file in read mode\n",
    "file = open(\"example.txt\", \"r\")\n",
    "\n",
    "# Reading the entire content of the file\n",
    "content = file.read()\n",
    "\n",
    "# Displaying the content of the file\n",
    "print(content)\n",
    "\n",
    "# Closing the file\n",
    "file.close()\n",
    "\n",
    "\n",
    "\n",
    "\n",
    "# Opening a file in read mode\n",
    "file = open(\"example.txt\", \"r\")\n",
    "\n",
    "# Reading the first line of the file\n",
    "line = file.readline()\n",
    "\n",
    "# Displaying the content of the line\n",
    "print(line)\n",
    "\n",
    "# Closing the file\n",
    "file.close()\n",
    "\n",
    "\n",
    "\n",
    "\n",
    "# Opening a file in read mode\n",
    "file = open(\"example.txt\", \"r\")\n",
    "\n",
    "# Reading all the lines of the file\n",
    "lines = file.readlines()\n",
    "\n",
    "# Displaying the content of the lines\n",
    "for line in lines:\n",
    "    print(line)\n",
    "\n",
    "# Closing the file\n",
    "file.close()\n"
   ]
  },
  {
   "cell_type": "raw",
   "id": "25de1d8c-7882-41bb-a14f-fa1a225d932a",
   "metadata": {},
   "source": [
    "Q5. Explain why with statement is used with open(). What is the advantage of using with statement and\n",
    "open() together?"
   ]
  },
  {
   "cell_type": "raw",
   "id": "4796727f-8d43-4274-bdc2-acff3b9931bb",
   "metadata": {},
   "source": [
    "The with statement is used with open() to automatically handle the file closing after accessing it. The advantage of using with statement and open() together is that it ensures proper handling of the file, including closing the file even if there are any exceptions. It also simplifies the code and makes it more readable by eliminating the need for a separate close() statement."
   ]
  },
  {
   "cell_type": "raw",
   "id": "ecc575a1-eade-415b-a16b-c5845cbc644c",
   "metadata": {},
   "source": [
    "Q6. Explain the write() and writelines() functions. Give a suitable example."
   ]
  },
  {
   "cell_type": "code",
   "execution_count": 5,
   "id": "ca5670b1-97d6-4078-a000-3799c4550855",
   "metadata": {},
   "outputs": [
    {
     "name": "stdout",
     "output_type": "stream",
     "text": [
      "\n",
      "file testing 1 2 3\n",
      "writing linessss \n",
      "reading linesss \n",
      "\n"
     ]
    }
   ],
   "source": [
    "with open('10Feb1.txt','a+') as f :\n",
    "    f.write('\\nfile testing 1 2 3\\n')\n",
    "#writelines() #For a list of string elements, each string is inserted in the text file. Used to insert multiple strings at a single time.\n",
    "  \n",
    "    f.writelines(['writing linessss \\n','reading linesss \\n'])\n",
    "    f.seek(0)\n",
    "    data4 = f.read()\n",
    "print(data4)"
   ]
  },
  {
   "cell_type": "code",
   "execution_count": 6,
   "id": "f03fb595-c465-4898-b7ff-20376aa0a73d",
   "metadata": {},
   "outputs": [],
   "source": [
    "# Opening a file in write mode\n",
    "file = open(\"example.txt\", \"w\")\n",
    "\n",
    "# Writing a single string using write()\n",
    "file.write(\"Hello, World!\\n\")\n",
    "\n",
    "# Writing multiple strings using writelines()\n",
    "strings = [\"This is the first line.\\n\", \"This is the second line.\\n\", \"This is the third line.\\n\"]\n",
    "file.writelines(strings)\n",
    "\n",
    "# Closing the file\n",
    "file.close()\n"
   ]
  },
  {
   "cell_type": "code",
   "execution_count": 7,
   "id": "0c809c65-b763-4793-b1eb-afa1ddcdb611",
   "metadata": {},
   "outputs": [
    {
     "ename": "SyntaxError",
     "evalue": "invalid syntax (164621139.py, line 1)",
     "output_type": "error",
     "traceback": [
      "\u001b[0;36m  Cell \u001b[0;32mIn[7], line 1\u001b[0;36m\u001b[0m\n\u001b[0;31m    Hello, World!\u001b[0m\n\u001b[0m                ^\u001b[0m\n\u001b[0;31mSyntaxError\u001b[0m\u001b[0;31m:\u001b[0m invalid syntax\n"
     ]
    }
   ],
   "source": [
    "Hello, World!\n",
    "This is the first line.\n",
    "This is the second line.\n",
    "This is the third line.\n"
   ]
  },
  {
   "cell_type": "code",
   "execution_count": null,
   "id": "6b681eb2-f9b5-48da-8c3b-58bae2cf79a9",
   "metadata": {},
   "outputs": [],
   "source": []
  }
 ],
 "metadata": {
  "kernelspec": {
   "display_name": "Python 3 (ipykernel)",
   "language": "python",
   "name": "python3"
  },
  "language_info": {
   "codemirror_mode": {
    "name": "ipython",
    "version": 3
   },
   "file_extension": ".py",
   "mimetype": "text/x-python",
   "name": "python",
   "nbconvert_exporter": "python",
   "pygments_lexer": "ipython3",
   "version": "3.10.8"
  }
 },
 "nbformat": 4,
 "nbformat_minor": 5
}
