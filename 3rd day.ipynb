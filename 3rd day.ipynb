{
 "cells": [
  {
   "cell_type": "code",
   "execution_count": 2,
   "id": "7da72ce1-292d-4943-a415-75467162818e",
   "metadata": {},
   "outputs": [],
   "source": [
    "d = {}"
   ]
  },
  {
   "cell_type": "code",
   "execution_count": 3,
   "id": "e32c707d-0260-4f9a-904c-6ef9de3628c6",
   "metadata": {},
   "outputs": [
    {
     "data": {
      "text/plain": [
       "dict"
      ]
     },
     "execution_count": 3,
     "metadata": {},
     "output_type": "execute_result"
    }
   ],
   "source": [
    "type(d)"
   ]
  },
  {
   "cell_type": "code",
   "execution_count": 6,
   "id": "41cf1872-2698-4189-b441-3c8464035e01",
   "metadata": {},
   "outputs": [],
   "source": [
    "d1 = {'cusb' : \"Sujeet\" }"
   ]
  },
  {
   "cell_type": "code",
   "execution_count": 7,
   "id": "903ca9e4-7bd0-4af0-b66f-1776fa1b1aca",
   "metadata": {},
   "outputs": [
    {
     "data": {
      "text/plain": [
       "{'cusb': 'Sujeet'}"
      ]
     },
     "execution_count": 7,
     "metadata": {},
     "output_type": "execute_result"
    }
   ],
   "source": [
    "d1"
   ]
  },
  {
   "cell_type": "code",
   "execution_count": 10,
   "id": "abb04543-e1aa-48c8-b88b-a8561007af7a",
   "metadata": {},
   "outputs": [],
   "source": [
    "d2 = {\"Name\": \"Sujeet Kumar\", \"E-mail\" : \"Sujeetkumarnwd61@gmail.com\" ,\"Mob\" : 7070508774}"
   ]
  },
  {
   "cell_type": "code",
   "execution_count": 11,
   "id": "108ca6f0-fc29-4487-8e23-520e4a0eda99",
   "metadata": {},
   "outputs": [
    {
     "data": {
      "text/plain": [
       "{'Name': 'Sujeet Kumar',\n",
       " 'E-mail': 'Sujeetkumarnwd61@gmail.com',\n",
       " 'Mob': 7070508774}"
      ]
     },
     "execution_count": 11,
     "metadata": {},
     "output_type": "execute_result"
    }
   ],
   "source": [
    "d2"
   ]
  },
  {
   "cell_type": "code",
   "execution_count": 17,
   "id": "72601bdd-52e8-44af-9b73-bd14ed70687b",
   "metadata": {},
   "outputs": [],
   "source": [
    "d3 = {234: \"Sujeet\", \"@mr\" : \"Sujeet\", True : 4526}"
   ]
  },
  {
   "cell_type": "code",
   "execution_count": 18,
   "id": "76654592-1ab9-42fc-aadb-7791f43a5272",
   "metadata": {},
   "outputs": [
    {
     "data": {
      "text/plain": [
       "{234: 'Sujeet', '@mr': 'Sujeet', True: 4526}"
      ]
     },
     "execution_count": 18,
     "metadata": {},
     "output_type": "execute_result"
    }
   ],
   "source": [
    "d3"
   ]
  },
  {
   "cell_type": "code",
   "execution_count": 20,
   "id": "c2cf15f5-3dc1-4d3c-a1e5-2c5c90e6555a",
   "metadata": {},
   "outputs": [
    {
     "data": {
      "text/plain": [
       "'Sujeet'"
      ]
     },
     "execution_count": 20,
     "metadata": {},
     "output_type": "execute_result"
    }
   ],
   "source": [
    "d3[234]"
   ]
  },
  {
   "cell_type": "code",
   "execution_count": 22,
   "id": "18917e1e-1b8f-4b7e-b7b7-687afbf24954",
   "metadata": {},
   "outputs": [
    {
     "data": {
      "text/plain": [
       "'Sujeet'"
      ]
     },
     "execution_count": 22,
     "metadata": {},
     "output_type": "execute_result"
    }
   ],
   "source": [
    "d3[\"@mr\"]"
   ]
  },
  {
   "cell_type": "code",
   "execution_count": 23,
   "id": "d358baf2-c8f3-47d6-bafc-1189edfd059d",
   "metadata": {},
   "outputs": [
    {
     "data": {
      "text/plain": [
       "4526"
      ]
     },
     "execution_count": 23,
     "metadata": {},
     "output_type": "execute_result"
    }
   ],
   "source": [
    "d3[True]"
   ]
  },
  {
   "cell_type": "code",
   "execution_count": 24,
   "id": "dd94f18a-f441-4670-ac9e-2afe66cc218a",
   "metadata": {},
   "outputs": [
    {
     "data": {
      "text/plain": [
       "4526"
      ]
     },
     "execution_count": 24,
     "metadata": {},
     "output_type": "execute_result"
    }
   ],
   "source": [
    "d3[1]"
   ]
  },
  {
   "cell_type": "code",
   "execution_count": 33,
   "id": "5a27db23-7e90-43c1-a188-9364498a94b1",
   "metadata": {},
   "outputs": [],
   "source": [
    "d4 = {\"Name\": \"Sujeet\", 'mail_id' : \"Sujeetkumarnwd6@gmail.com\",\"Name\" : \"Skumar\"}"
   ]
  },
  {
   "cell_type": "code",
   "execution_count": 34,
   "id": "5a939462-fc21-418b-8413-bd13ad0f707f",
   "metadata": {},
   "outputs": [
    {
     "data": {
      "text/plain": [
       "{'Name': 'Skumar', 'mail_id': 'Sujeetkumarnwd6@gmail.com'}"
      ]
     },
     "execution_count": 34,
     "metadata": {},
     "output_type": "execute_result"
    }
   ],
   "source": [
    "d4"
   ]
  },
  {
   "cell_type": "code",
   "execution_count": 35,
   "id": "5726a9d4-37a0-4941-a1bd-0999c0b61213",
   "metadata": {},
   "outputs": [
    {
     "data": {
      "text/plain": [
       "'Skumar'"
      ]
     },
     "execution_count": 35,
     "metadata": {},
     "output_type": "execute_result"
    }
   ],
   "source": [
    "d4[\"Name\"]"
   ]
  },
  {
   "cell_type": "code",
   "execution_count": 36,
   "id": "f3a9318e-ab25-4c7b-a427-a14cd3ec5164",
   "metadata": {},
   "outputs": [],
   "source": [
    "d5 = {'Company' : \"GMDA\", \"Course\" : ['Data Science', \"Data Analytics\", \"Web Developr\"]}"
   ]
  },
  {
   "cell_type": "code",
   "execution_count": 37,
   "id": "8128c4b9-7935-4eb3-91bb-817365995fcd",
   "metadata": {},
   "outputs": [
    {
     "data": {
      "text/plain": [
       "{'Company': 'GMDA',\n",
       " 'Course': ['Data Science', 'Data Analytics', 'Web Developr']}"
      ]
     },
     "execution_count": 37,
     "metadata": {},
     "output_type": "execute_result"
    }
   ],
   "source": [
    "d5"
   ]
  },
  {
   "cell_type": "code",
   "execution_count": 38,
   "id": "9704363a-13b7-4e33-a8af-b33ba6d2eb68",
   "metadata": {},
   "outputs": [
    {
     "data": {
      "text/plain": [
       "['Data Science', 'Data Analytics', 'Web Developr']"
      ]
     },
     "execution_count": 38,
     "metadata": {},
     "output_type": "execute_result"
    }
   ],
   "source": [
    "d5[\"Course\"]"
   ]
  },
  {
   "cell_type": "code",
   "execution_count": 39,
   "id": "35a84ce3-4d6d-4e8d-85dd-07057d9ac6f4",
   "metadata": {},
   "outputs": [
    {
     "data": {
      "text/plain": [
       "'Web Developr'"
      ]
     },
     "execution_count": 39,
     "metadata": {},
     "output_type": "execute_result"
    }
   ],
   "source": [
    "d5[\"Course\"][2]"
   ]
  },
  {
   "cell_type": "code",
   "execution_count": 45,
   "id": "ba41ab95-8c81-46e8-bb1f-9f60dd433768",
   "metadata": {},
   "outputs": [],
   "source": [
    "d6 = {\"Number\": [70,70,50,87,74], \"Assignment\" : (1,2,5,8,5,8), \"JoinnDAte\": (20,12,2023) , \"Class_Timming\": \n",
    "    {\"web DEv\" : 8, \"Data Mining\" : 6, \"Big data\" : 10} }"
   ]
  },
  {
   "cell_type": "code",
   "execution_count": 46,
   "id": "dfdee10b-d90e-4974-a637-5350a2086c78",
   "metadata": {},
   "outputs": [
    {
     "data": {
      "text/plain": [
       "{'Number': [70, 70, 50, 87, 74],\n",
       " 'Assignment': (1, 2, 5, 8, 5, 8),\n",
       " 'JoinnDAte': (20, 12, 2023),\n",
       " 'Class_Timming': {'web DEv': 8, 'Data Mining': 6, 'Big data': 10}}"
      ]
     },
     "execution_count": 46,
     "metadata": {},
     "output_type": "execute_result"
    }
   ],
   "source": [
    "d6"
   ]
  },
  {
   "cell_type": "code",
   "execution_count": 48,
   "id": "61a7ff82-f79b-4c84-861b-800119f5a258",
   "metadata": {},
   "outputs": [
    {
     "data": {
      "text/plain": [
       "[70, 70, 50, 87, 74]"
      ]
     },
     "execution_count": 48,
     "metadata": {},
     "output_type": "execute_result"
    }
   ],
   "source": [
    "d6['Number']"
   ]
  },
  {
   "cell_type": "code",
   "execution_count": 49,
   "id": "659a2ba8-7117-46e5-a720-d4ebb783ec52",
   "metadata": {},
   "outputs": [
    {
     "data": {
      "text/plain": [
       "87"
      ]
     },
     "execution_count": 49,
     "metadata": {},
     "output_type": "execute_result"
    }
   ],
   "source": [
    "d6['Number'][3]"
   ]
  },
  {
   "cell_type": "code",
   "execution_count": 52,
   "id": "8c042374-4b95-4172-a50f-10f3dda1815d",
   "metadata": {},
   "outputs": [
    {
     "data": {
      "text/plain": [
       "10"
      ]
     },
     "execution_count": 52,
     "metadata": {},
     "output_type": "execute_result"
    }
   ],
   "source": [
    "d6['Class_Timming']['Big data']"
   ]
  },
  {
   "cell_type": "code",
   "execution_count": 53,
   "id": "588598eb-fa62-4c4c-a0d2-2b24bac6e31a",
   "metadata": {},
   "outputs": [
    {
     "data": {
      "text/plain": [
       "{'Number': [70, 70, 50, 87, 74],\n",
       " 'Assignment': (1, 2, 5, 8, 5, 8),\n",
       " 'JoinnDAte': (20, 12, 2023),\n",
       " 'Class_Timming': {'web DEv': 8, 'Data Mining': 6, 'Big data': 10}}"
      ]
     },
     "execution_count": 53,
     "metadata": {},
     "output_type": "execute_result"
    }
   ],
   "source": [
    "d6"
   ]
  },
  {
   "cell_type": "code",
   "execution_count": 54,
   "id": "59a50406-7cc8-4103-830a-b427e1742548",
   "metadata": {},
   "outputs": [],
   "source": [
    "d6['Mentor'] =[\"Jainath Sir\", \"Prabhat Ranjan\", \"Nemi Chnadra\"]"
   ]
  },
  {
   "cell_type": "code",
   "execution_count": 55,
   "id": "f3611629-0ec2-404b-a363-9c5a32fc498f",
   "metadata": {},
   "outputs": [
    {
     "data": {
      "text/plain": [
       "{'Number': [70, 70, 50, 87, 74],\n",
       " 'Assignment': (1, 2, 5, 8, 5, 8),\n",
       " 'JoinnDAte': (20, 12, 2023),\n",
       " 'Class_Timming': {'web DEv': 8, 'Data Mining': 6, 'Big data': 10},\n",
       " 'Mentor': ['Jainath Sir', 'Prabhat Ranjan', 'Nemi Chnadra']}"
      ]
     },
     "execution_count": 55,
     "metadata": {},
     "output_type": "execute_result"
    }
   ],
   "source": [
    "d6"
   ]
  },
  {
   "cell_type": "code",
   "execution_count": 56,
   "id": "317894c1-257b-4d5f-b821-df786d275ee6",
   "metadata": {},
   "outputs": [],
   "source": [
    "del d6['Number']"
   ]
  },
  {
   "cell_type": "code",
   "execution_count": 57,
   "id": "a4631ed5-6d6a-44f4-bfeb-6dab8c648532",
   "metadata": {},
   "outputs": [
    {
     "data": {
      "text/plain": [
       "{'Assignment': (1, 2, 5, 8, 5, 8),\n",
       " 'JoinnDAte': (20, 12, 2023),\n",
       " 'Class_Timming': {'web DEv': 8, 'Data Mining': 6, 'Big data': 10},\n",
       " 'Mentor': ['Jainath Sir', 'Prabhat Ranjan', 'Nemi Chnadra']}"
      ]
     },
     "execution_count": 57,
     "metadata": {},
     "output_type": "execute_result"
    }
   ],
   "source": [
    "d6"
   ]
  },
  {
   "cell_type": "code",
   "execution_count": 61,
   "id": "01437740-152a-4987-b841-be9793a73237",
   "metadata": {},
   "outputs": [
    {
     "data": {
      "text/plain": [
       "['Assignment', 'JoinnDAte', 'Class_Timming', 'Mentor']"
      ]
     },
     "execution_count": 61,
     "metadata": {},
     "output_type": "execute_result"
    }
   ],
   "source": [
    "list(d6.keys())"
   ]
  },
  {
   "cell_type": "code",
   "execution_count": 62,
   "id": "48e76f00-a103-4c7d-bb4c-e5ba32651a15",
   "metadata": {},
   "outputs": [
    {
     "data": {
      "text/plain": [
       "[(1, 2, 5, 8, 5, 8),\n",
       " (20, 12, 2023),\n",
       " {'web DEv': 8, 'Data Mining': 6, 'Big data': 10},\n",
       " ['Jainath Sir', 'Prabhat Ranjan', 'Nemi Chnadra']]"
      ]
     },
     "execution_count": 62,
     "metadata": {},
     "output_type": "execute_result"
    }
   ],
   "source": [
    "list(d6.values())"
   ]
  },
  {
   "cell_type": "code",
   "execution_count": 63,
   "id": "5ea20935-911b-4fe9-a311-ce50fd6e1f01",
   "metadata": {},
   "outputs": [
    {
     "data": {
      "text/plain": [
       "dict_items([('Assignment', (1, 2, 5, 8, 5, 8)), ('JoinnDAte', (20, 12, 2023)), ('Class_Timming', {'web DEv': 8, 'Data Mining': 6, 'Big data': 10}), ('Mentor', ['Jainath Sir', 'Prabhat Ranjan', 'Nemi Chnadra'])])"
      ]
     },
     "execution_count": 63,
     "metadata": {},
     "output_type": "execute_result"
    }
   ],
   "source": [
    "d6.items()"
   ]
  },
  {
   "cell_type": "code",
   "execution_count": 65,
   "id": "6a1702b1-4e73-40de-9f13-9b4ffcd93c53",
   "metadata": {},
   "outputs": [
    {
     "data": {
      "text/plain": [
       "[('Assignment', (1, 2, 5, 8, 5, 8)),\n",
       " ('JoinnDAte', (20, 12, 2023)),\n",
       " ('Class_Timming', {'web DEv': 8, 'Data Mining': 6, 'Big data': 10}),\n",
       " ('Mentor', ['Jainath Sir', 'Prabhat Ranjan', 'Nemi Chnadra'])]"
      ]
     },
     "execution_count": 65,
     "metadata": {},
     "output_type": "execute_result"
    }
   ],
   "source": [
    "list(d6.items())"
   ]
  },
  {
   "cell_type": "code",
   "execution_count": 67,
   "id": "099e7880-4ecb-4283-b626-676f6d126a39",
   "metadata": {},
   "outputs": [
    {
     "data": {
      "text/plain": [
       "(1, 2, 5, 8, 5, 8)"
      ]
     },
     "execution_count": 67,
     "metadata": {},
     "output_type": "execute_result"
    }
   ],
   "source": [
    "d6.pop('Assignment')"
   ]
  },
  {
   "cell_type": "code",
   "execution_count": 68,
   "id": "c4920e6f-1ea0-40ca-bba6-9bb4383bd988",
   "metadata": {},
   "outputs": [
    {
     "data": {
      "text/plain": [
       "{'JoinnDAte': (20, 12, 2023),\n",
       " 'Class_Timming': {'web DEv': 8, 'Data Mining': 6, 'Big data': 10},\n",
       " 'Mentor': ['Jainath Sir', 'Prabhat Ranjan', 'Nemi Chnadra']}"
      ]
     },
     "execution_count": 68,
     "metadata": {},
     "output_type": "execute_result"
    }
   ],
   "source": [
    "d6"
   ]
  },
  {
   "cell_type": "code",
   "execution_count": 69,
   "id": "092ab810-834d-4711-9ee5-ec8fa6de3f76",
   "metadata": {},
   "outputs": [
    {
     "ename": "TypeError",
     "evalue": "pop expected at least 1 argument, got 0",
     "output_type": "error",
     "traceback": [
      "\u001b[0;31m---------------------------------------------------------------------------\u001b[0m",
      "\u001b[0;31mTypeError\u001b[0m                                 Traceback (most recent call last)",
      "Cell \u001b[0;32mIn[69], line 1\u001b[0m\n\u001b[0;32m----> 1\u001b[0m \u001b[43md6\u001b[49m\u001b[38;5;241;43m.\u001b[39;49m\u001b[43mpop\u001b[49m\u001b[43m(\u001b[49m\u001b[43m)\u001b[49m\n",
      "\u001b[0;31mTypeError\u001b[0m: pop expected at least 1 argument, got 0"
     ]
    }
   ],
   "source": [
    "d6.pop()"
   ]
  },
  {
   "cell_type": "code",
   "execution_count": 76,
   "id": "d51e7edf-d298-4152-9416-a945019dbed8",
   "metadata": {},
   "outputs": [
    {
     "name": "stdin",
     "output_type": "stream",
     "text": [
      "Enter your marks 36\n"
     ]
    },
    {
     "name": "stdout",
     "output_type": "stream",
     "text": [
      "you will be a part of A3 Batch\n"
     ]
    }
   ],
   "source": [
    "marks = int(input(\"Enter your marks\"))\n",
    "if marks >= 80:\n",
    "    print(\"you will be a part of A+ Batch\")\n",
    "elif  marks >= 60 and marks < 80:\n",
    "    print(\"you will be a part of A1 Batch\")\n",
    "elif marks >=40 and marks < 60:\n",
    "    print(\"you will be a part of A2 Batch\")\n",
    "else :\n",
    "    print(\"you will be a part of A3 Batch\")"
   ]
  },
  {
   "cell_type": "code",
   "execution_count": 95,
   "id": "ef40bb37-01a4-4bb8-b7d4-204a1d789076",
   "metadata": {},
   "outputs": [
    {
     "name": "stdin",
     "output_type": "stream",
     "text": [
      "Enter Your Desire Price: 23\n"
     ]
    },
    {
     "name": "stdout",
     "output_type": "stream",
     "text": [
      "i will not purchase\n",
      "i will not purchase\n",
      "No Thanks\n",
      "No thaks \n"
     ]
    }
   ],
   "source": [
    "price = int(input(\"Enter Your Desire Price:\"))\n",
    "if price > 1000:\n",
    "    print(\"i will not purchase\")\n",
    "    if price > 8100:\n",
    "         print(\"This is too much\")\n",
    "    elif price < 2000:\n",
    "                 print(\"no Thanks\")\n",
    "elif price < 1500:\n",
    "    print(\"i will not purchase\")\n",
    "    print(\"i will not purchase\")   \n",
    "    if price < 2000:\n",
    "         print(\"No Thanks\")\n",
    "    if price >5000:\n",
    "         print(\"This is too much\")\n",
    "    elif price <2000:\n",
    "        print(\"No thaks \")\n",
    "     "
   ]
  },
  {
   "cell_type": "code",
   "execution_count": 96,
   "id": "d05b7588-0df2-4305-afc8-a10622b87813",
   "metadata": {},
   "outputs": [],
   "source": [
    "l = [1,2,5,4,3,8,5,9,7,66]"
   ]
  },
  {
   "cell_type": "code",
   "execution_count": 97,
   "id": "0c8b23fb-ddf1-4ff3-a5ee-0fdf3b8e324d",
   "metadata": {},
   "outputs": [
    {
     "data": {
      "text/plain": [
       "2"
      ]
     },
     "execution_count": 97,
     "metadata": {},
     "output_type": "execute_result"
    }
   ],
   "source": [
    "l[0] +1"
   ]
  },
  {
   "cell_type": "code",
   "execution_count": 100,
   "id": "84817989-6c36-411f-9ecd-53712d43cb0a",
   "metadata": {},
   "outputs": [],
   "source": [
    "l1 =[]"
   ]
  },
  {
   "cell_type": "code",
   "execution_count": 102,
   "id": "4df3f712-0568-41ca-aa84-d86f78e96e13",
   "metadata": {},
   "outputs": [],
   "source": [
    "l1.append(l[0] +1)"
   ]
  },
  {
   "cell_type": "code",
   "execution_count": 103,
   "id": "0b1d29d1-6ee7-4a36-9781-b1e4f2f0731b",
   "metadata": {},
   "outputs": [
    {
     "data": {
      "text/plain": [
       "[2, 2]"
      ]
     },
     "execution_count": 103,
     "metadata": {},
     "output_type": "execute_result"
    }
   ],
   "source": [
    "l1"
   ]
  },
  {
   "cell_type": "code",
   "execution_count": 104,
   "id": "0e1a3cd8-d607-44c6-a5ce-1b329aaa93fb",
   "metadata": {},
   "outputs": [
    {
     "data": {
      "text/plain": [
       "[1, 2, 5, 4, 3, 8, 5, 9, 7, 66]"
      ]
     },
     "execution_count": 104,
     "metadata": {},
     "output_type": "execute_result"
    }
   ],
   "source": [
    "l"
   ]
  },
  {
   "cell_type": "code",
   "execution_count": 107,
   "id": "138b827f-59cc-4187-8033-ea77a72e780b",
   "metadata": {},
   "outputs": [],
   "source": [
    "l = [1,2,5,4,3,8,5,9,7,66]"
   ]
  },
  {
   "cell_type": "code",
   "execution_count": 113,
   "id": "374e9296-ba1e-48ae-8ce2-b643062077e7",
   "metadata": {},
   "outputs": [
    {
     "name": "stdout",
     "output_type": "stream",
     "text": [
      "2\n",
      "3\n",
      "6\n",
      "5\n",
      "4\n",
      "9\n",
      "6\n",
      "10\n",
      "8\n",
      "67\n"
     ]
    },
    {
     "data": {
      "text/plain": [
       "[2, 3, 6, 5, 4, 9, 6, 10, 8, 67]"
      ]
     },
     "execution_count": 113,
     "metadata": {},
     "output_type": "execute_result"
    }
   ],
   "source": [
    "l1 =[]\n",
    "for i in l:\n",
    "    print(i+1)\n",
    "    l1.append(i+1)\n",
    "l1    "
   ]
  },
  {
   "cell_type": "code",
   "execution_count": 114,
   "id": "c0119376-be7a-4b45-95b2-e66e49689744",
   "metadata": {},
   "outputs": [
    {
     "data": {
      "text/plain": [
       "[1, 2, 5, 4, 3, 8, 5, 9, 7, 66]"
      ]
     },
     "execution_count": 114,
     "metadata": {},
     "output_type": "execute_result"
    }
   ],
   "source": [
    "l"
   ]
  },
  {
   "cell_type": "code",
   "execution_count": 115,
   "id": "775ad4dc-e747-4eee-9ecf-fda09eccd86b",
   "metadata": {},
   "outputs": [
    {
     "data": {
      "text/plain": [
       "[2, 3, 6, 5, 4, 9, 6, 10, 8, 67]"
      ]
     },
     "execution_count": 115,
     "metadata": {},
     "output_type": "execute_result"
    }
   ],
   "source": [
    "l1"
   ]
  },
  {
   "cell_type": "code",
   "execution_count": 116,
   "id": "294c9835-f798-4364-89ee-16853c29d892",
   "metadata": {},
   "outputs": [],
   "source": [
    "l = [\"Sujeet\", \"Kumar\", \"CUSB\", \"MSCCS\"]"
   ]
  },
  {
   "cell_type": "code",
   "execution_count": 120,
   "id": "78dbf747-5576-4ce5-84cf-ccd86dac3932",
   "metadata": {},
   "outputs": [
    {
     "name": "stdout",
     "output_type": "stream",
     "text": [
      "Sujeet\n",
      "Kumar\n",
      "CUSB\n",
      "MSCCS\n"
     ]
    }
   ],
   "source": [
    "l1 = []\n",
    "for i in l:\n",
    "    print(i)\n",
    "    l1.append(i.upper())"
   ]
  },
  {
   "cell_type": "code",
   "execution_count": 121,
   "id": "aa43d8d9-f919-4b0f-b0b8-967fa4fbbb88",
   "metadata": {},
   "outputs": [
    {
     "data": {
      "text/plain": [
       "['SUJEET', 'KUMAR', 'CUSB', 'MSCCS']"
      ]
     },
     "execution_count": 121,
     "metadata": {},
     "output_type": "execute_result"
    }
   ],
   "source": [
    "l1"
   ]
  },
  {
   "cell_type": "code",
   "execution_count": 122,
   "id": "243f5768-64a4-4ed6-afeb-33831babe37e",
   "metadata": {},
   "outputs": [],
   "source": [
    "l = [1,2,3,4,6,5, \"Sujeet\", \"Kumar\", 325, 3514.25, \"abg\"]"
   ]
  },
  {
   "cell_type": "code",
   "execution_count": 124,
   "id": "3807d114-2e51-4407-87ed-c632accbd067",
   "metadata": {},
   "outputs": [],
   "source": [
    "l1_num = []\n",
    "l2_str = []\n",
    "for i in l:\n",
    "    if type(i) == int or type(i) == float:\n",
    "        l1_num.append(i)\n",
    "    else :\n",
    "        l2_str.append(i)\n"
   ]
  },
  {
   "cell_type": "code",
   "execution_count": 125,
   "id": "4a0d7413-3087-4967-af0a-46cc1d31a4f5",
   "metadata": {},
   "outputs": [
    {
     "data": {
      "text/plain": [
       "[1, 2, 3, 4, 6, 5, 325, 3514.25]"
      ]
     },
     "execution_count": 125,
     "metadata": {},
     "output_type": "execute_result"
    }
   ],
   "source": [
    "l1_num"
   ]
  },
  {
   "cell_type": "code",
   "execution_count": 126,
   "id": "0c230788-1012-4189-b90d-d1eec6a0273d",
   "metadata": {},
   "outputs": [
    {
     "data": {
      "text/plain": [
       "['Sujeet', 'Kumar', 'abg']"
      ]
     },
     "execution_count": 126,
     "metadata": {},
     "output_type": "execute_result"
    }
   ],
   "source": [
    "l2_str"
   ]
  },
  {
   "cell_type": "code",
   "execution_count": null,
   "id": "9d560bb7-a112-431e-8a0e-663dc0b6eaf8",
   "metadata": {},
   "outputs": [],
   "source": []
  }
 ],
 "metadata": {
  "kernelspec": {
   "display_name": "Python 3 (ipykernel)",
   "language": "python",
   "name": "python3"
  },
  "language_info": {
   "codemirror_mode": {
    "name": "ipython",
    "version": 3
   },
   "file_extension": ".py",
   "mimetype": "text/x-python",
   "name": "python",
   "nbconvert_exporter": "python",
   "pygments_lexer": "ipython3",
   "version": "3.10.8"
  }
 },
 "nbformat": 4,
 "nbformat_minor": 5
}
