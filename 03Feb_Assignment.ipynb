{
 "cells": [
  {
   "cell_type": "code",
   "execution_count": 2,
   "id": "d0451e3b-bcc2-4394-a228-3f27f8b9c9a3",
   "metadata": {},
   "outputs": [],
   "source": [
    "#Q1. Which keyword is used to create a function? Create a function to return a list of odd numbers in the range\n",
    "#of 1 to 25."
   ]
  },
  {
   "cell_type": "code",
   "execution_count": 3,
   "id": "2f4f9836-ede3-4810-94da-2f16c8c5a5bc",
   "metadata": {},
   "outputs": [
    {
     "data": {
      "text/plain": [
       "[1, 3, 5, 7, 9, 11, 13, 15, 17, 19, 21, 23, 25]"
      ]
     },
     "execution_count": 3,
     "metadata": {},
     "output_type": "execute_result"
    }
   ],
   "source": [
    "n=25\n",
    "def odd_list(n):\n",
    "    \n",
    "    l2=[i for i in list(range(1,n+1)) if i%2 !=0]\n",
    "    return l2\n",
    "odd_list(n)"
   ]
  },
  {
   "cell_type": "code",
   "execution_count": 5,
   "id": "3e86551c-64c1-44a6-8aa6-17f5c2fbc4eb",
   "metadata": {},
   "outputs": [],
   "source": [
    "#Q2. Why *args and **kwargs is used in some functions? Create a function each for *args and **kwargs\n",
    "#to demonstrate their use."
   ]
  },
  {
   "cell_type": "code",
   "execution_count": 6,
   "id": "327ce0a1-6319-4bc5-8223-398c074bd53f",
   "metadata": {},
   "outputs": [
    {
     "name": "stdout",
     "output_type": "stream",
     "text": [
      "(1, 2, 3, 4, 5, 6)\n",
      "([1, 2, 3, 4, 5, 6, 7, 8, 9],)\n"
     ]
    },
    {
     "data": {
      "text/plain": [
       "tuple"
      ]
     },
     "execution_count": 6,
     "metadata": {},
     "output_type": "execute_result"
    }
   ],
   "source": [
    "# example-1\n",
    "\n",
    "def test1(*args):\n",
    "    return args\n",
    "print(test1(1,2,3,4,5,6)) \n",
    "print(test1(list(range(1,10)))) \n",
    "type(test1())"
   ]
  },
  {
   "cell_type": "code",
   "execution_count": 7,
   "id": "59c55100-2737-4751-a3b4-16e28df25f3d",
   "metadata": {},
   "outputs": [
    {
     "name": "stdout",
     "output_type": "stream",
     "text": [
      "(1, 2, 3, 4, 5, 6, 1, 2, 3, 4, 5, 6)\n"
     ]
    }
   ],
   "source": [
    "# example-2\n",
    "def test2(*args, a):\n",
    "    return args*a\n",
    "print(test2(1,2,3,4,5,6, a=2) )"
   ]
  },
  {
   "cell_type": "code",
   "execution_count": 8,
   "id": "31dc3fdd-486f-4769-ac5a-d87ab551147e",
   "metadata": {},
   "outputs": [
    {
     "name": "stdout",
     "output_type": "stream",
     "text": [
      "{'a': [1, 2, 3], 'b': (7, 9, 100), 'c': 'I am Learner', 'd': {1, 2}}\n"
     ]
    },
    {
     "data": {
      "text/plain": [
       "dict"
      ]
     },
     "execution_count": 8,
     "metadata": {},
     "output_type": "execute_result"
    }
   ],
   "source": [
    "# example\n",
    "def test3(**kwargs):\n",
    "    \n",
    "    return kwargs\n",
    "print(test3(a=[1,2,3], b=(7,9,100), c=\"I am Learner\", d= {1,2,1,2}))\n",
    "type(test3())      "
   ]
  },
  {
   "cell_type": "code",
   "execution_count": 9,
   "id": "05456a12-0583-43f5-a9a5-7759751347d8",
   "metadata": {},
   "outputs": [],
   "source": [
    "#Q3. What is an iterator in python? Name the method used to initialise the iterator object and the method\n",
    "#used for iteration. Use these methods to print the first five elements of the given list \n",
    "#[2, 4, 6, 8, 10, 12, 14, 16, 18, 20]."
   ]
  },
  {
   "cell_type": "code",
   "execution_count": 14,
   "id": "1bbfd66b-e53e-40f5-8240-85f6367332f1",
   "metadata": {},
   "outputs": [
    {
     "name": "stdout",
     "output_type": "stream",
     "text": [
      "2\n",
      "4\n",
      "6\n",
      "8\n",
      "10\n"
     ]
    }
   ],
   "source": [
    "#Ans\n",
    "   #An iterator in Python is an object that can be iterated upon. It is an object that implements the iterator protocol,\n",
    "    #which consists of two methods: __iter__ and __next__. The __iter__ method returns the iterator object and the\n",
    "    #__next__ method returns the next item in the sequence.\n",
    "l=[2, 4, 6, 8, 10, 12, 14,16, 18, 20]\n",
    "mx = iter(l)\n",
    " \n",
    "print(next(mx))\n",
    "print(next(mx))\n",
    "print(next(mx))\n",
    "print(next(mx))\n",
    "print(next(mx))"
   ]
  },
  {
   "cell_type": "code",
   "execution_count": null,
   "id": "106d6486-2a9e-49ce-b347-05f400e1bc6c",
   "metadata": {},
   "outputs": [],
   "source": [
    "#Q4. What is a generator function in python? Why yield keyword is used? Give an example of a generator function."
   ]
  },
  {
   "cell_type": "code",
   "execution_count": 15,
   "id": "1c5e48c1-65e3-4747-8652-556e8fdeea06",
   "metadata": {},
   "outputs": [
    {
     "name": "stdout",
     "output_type": "stream",
     "text": [
      "0\n",
      "1\n",
      "2\n",
      "3\n",
      "4\n",
      "[5, 6, 7, 8, 9, 10]\n"
     ]
    }
   ],
   "source": [
    "#Ans\n",
    "     #A generator function in Python is a special type of function that generates an iterator. Unlike normal functions,\n",
    "      #a generator function does not return a single value, but instead generates a series of values over time. \n",
    "        \n",
    "def count_x(n):\n",
    "    for i in range(0, n+1):\n",
    "        yield i\n",
    "# now calling generator function, gen_obj is termed as generator object       \n",
    "gen_obj = count_x(10) \n",
    " # printing first 5 elemnets     \n",
    "print(next(gen_obj))\n",
    "print(next(gen_obj))\n",
    "print(next(gen_obj))\n",
    "print(next(gen_obj))\n",
    "print(next(gen_obj))\n",
    "\n",
    "print(list(gen_obj)) "
   ]
  },
  {
   "cell_type": "code",
   "execution_count": 16,
   "id": "6f0a2e2b-de45-414c-99b6-174a3bfa74c8",
   "metadata": {},
   "outputs": [],
   "source": [
    "#Q5. Create a generator function for prime numbers less than 1000. Use the next() method to print the first 20 prime numbers."
   ]
  },
  {
   "cell_type": "code",
   "execution_count": 19,
   "id": "4c26e31b-6ee0-4b64-a520-db5cd962585c",
   "metadata": {},
   "outputs": [
    {
     "name": "stdout",
     "output_type": "stream",
     "text": [
      "1\n",
      "2\n",
      "3\n",
      "5\n",
      "7\n",
      "11\n",
      "13\n",
      "17\n",
      "19\n",
      "23\n",
      "29\n",
      "31\n",
      "37\n",
      "41\n",
      "43\n",
      "47\n",
      "53\n",
      "59\n",
      "61\n",
      "67\n"
     ]
    }
   ],
   "source": [
    "# ans\n",
    "n=1000\n",
    "def get_prime(n):\n",
    "    for x in range(1,n):\n",
    "        for y in range(2,x):\n",
    "            if x%y==0:\n",
    "                break\n",
    "        else:\n",
    "            yield x\n",
    "m= get_prime(1000)\n",
    "print(next(m))\n",
    "print(next(m))\n",
    "print(next(m))\n",
    "print(next(m))\n",
    "print(next(m))\n",
    "print(next(m))\n",
    "print(next(m))\n",
    "print(next(m))\n",
    "print(next(m))\n",
    "print(next(m))\n",
    "print(next(m))\n",
    "print(next(m))\n",
    "print(next(m))\n",
    "print(next(m))\n",
    "print(next(m))\n",
    "print(next(m))\n",
    "print(next(m))\n",
    "print(next(m))\n",
    "print(next(m))\n",
    "print(next(m))"
   ]
  },
  {
   "cell_type": "code",
   "execution_count": 20,
   "id": "3e252217-bebf-470a-a6fc-fe07f81a6f83",
   "metadata": {},
   "outputs": [],
   "source": [
    "#Q6. Write a python program to print the first 10 Fibonacci numbers using a while loop."
   ]
  },
  {
   "cell_type": "code",
   "execution_count": 24,
   "id": "78f50529-319c-4fac-b312-8e9668bed1e0",
   "metadata": {},
   "outputs": [
    {
     "name": "stdout",
     "output_type": "stream",
     "text": [
      "0\n",
      "1\n",
      "1\n",
      "2\n",
      "3\n",
      "5\n",
      "8\n",
      "13\n",
      "21\n",
      "34\n"
     ]
    }
   ],
   "source": [
    "\n",
    "\n",
    "number = 10\n",
    "a , b  = 0 , 1 \n",
    "counter = 0 \n",
    "while counter < number : \n",
    "    print(a)\n",
    "    c = a+ b\n",
    "    a = b \n",
    "    b = c \n",
    "    counter= counter+ 1"
   ]
  },
  {
   "cell_type": "code",
   "execution_count": 25,
   "id": "88374130-112a-4753-a412-d4738b73fd74",
   "metadata": {},
   "outputs": [],
   "source": [
    "#Q7. Write a List Comprehension to iterate through the given string: ‘pwskills’.\n",
    "#Expected output: ['p', 'w', 's', 'k', 'i', 'l', 'l', 's']"
   ]
  },
  {
   "cell_type": "code",
   "execution_count": 26,
   "id": "e5790648-245b-4757-b544-342689b5337c",
   "metadata": {},
   "outputs": [
    {
     "data": {
      "text/plain": [
       "['p', 'w', 's', 'k', 'i', 'l', 'l', 's']"
      ]
     },
     "execution_count": 26,
     "metadata": {},
     "output_type": "execute_result"
    }
   ],
   "source": [
    "p=\"pwskills\"\n",
    "\n",
    "[i for i in p]"
   ]
  },
  {
   "cell_type": "code",
   "execution_count": 31,
   "id": "6e829d54-2080-4228-91d4-a2f36ea8436f",
   "metadata": {},
   "outputs": [
    {
     "data": {
      "text/plain": [
       "['p', 'w', 's', 'k', 'i', 'l', 'l', 's']"
      ]
     },
     "execution_count": 31,
     "metadata": {},
     "output_type": "execute_result"
    }
   ],
   "source": [
    "p = \"pwskills\"\n",
    "[i for i in p]"
   ]
  },
  {
   "cell_type": "code",
   "execution_count": 32,
   "id": "1a94d023-bc52-407f-adaf-b95f9ead8e93",
   "metadata": {},
   "outputs": [],
   "source": [
    "#Q8. Write a python program to check whether a given number is Palindrome or not using a while loop."
   ]
  },
  {
   "cell_type": "code",
   "execution_count": 35,
   "id": "5282f231-e3a2-4e12-ba20-50925e8debfd",
   "metadata": {},
   "outputs": [
    {
     "name": "stdin",
     "output_type": "stream",
     "text": [
      "Enter a number: 255\n"
     ]
    },
    {
     "name": "stdout",
     "output_type": "stream",
     "text": [
      " is not a palindrome!\n"
     ]
    }
   ],
   "source": [
    "num=int(input(\"Enter a number:\"))\n",
    "temp=num\n",
    "rev=0\n",
    "while(num>0):\n",
    "    digit=num%10\n",
    "    rev=rev*10+digit\n",
    "    num=num//10\n",
    "if(temp==rev):\n",
    "    print(\"is palindrome!\")\n",
    "else:\n",
    "    print(\" is not a palindrome!\")"
   ]
  },
  {
   "cell_type": "code",
   "execution_count": 36,
   "id": "cd1fe096-db57-4185-b00f-1bbbf1a76e38",
   "metadata": {},
   "outputs": [
    {
     "name": "stdin",
     "output_type": "stream",
     "text": [
      "Enter a number: 12321\n"
     ]
    },
    {
     "name": "stdout",
     "output_type": "stream",
     "text": [
      "is palindrome!\n"
     ]
    }
   ],
   "source": [
    "num=int(input(\"Enter a number:\"))\n",
    "temp=num\n",
    "rev=0\n",
    "while(num>0):\n",
    "    digit=num%10\n",
    "    rev=rev*10+digit\n",
    "    num=num//10\n",
    "if(temp==rev):\n",
    "    print(\"is palindrome!\")\n",
    "else:\n",
    "    print(\" is not a palindrome!\")"
   ]
  },
  {
   "cell_type": "code",
   "execution_count": 37,
   "id": "06e94bbb-6ba1-49b6-a918-54229f26c624",
   "metadata": {},
   "outputs": [],
   "source": [
    "#Q9. Write a code to print odd numbers from 1 to 100 using list comprehension."
   ]
  },
  {
   "cell_type": "code",
   "execution_count": 38,
   "id": "a7e9ca9b-065b-4249-97b7-1edaae5d39b0",
   "metadata": {},
   "outputs": [
    {
     "name": "stdout",
     "output_type": "stream",
     "text": [
      "[1, 3, 5, 7, 9, 11, 13, 15, 17, 19, 21, 23, 25, 27, 29, 31, 33, 35, 37, 39, 41, 43, 45, 47, 49, 51, 53, 55, 57, 59, 61, 63, 65, 67, 69, 71, 73, 75, 77, 79, 81, 83, 85, 87, 89, 91, 93, 95, 97, 99]\n"
     ]
    }
   ],
   "source": [
    "l1=[i for i in range(1,101)]\n",
    "l2= [x for x in l1 if x%2!=0]\n",
    "print(l2)"
   ]
  },
  {
   "cell_type": "code",
   "execution_count": null,
   "id": "6ff23c29-31ab-454d-a94d-edc4fd838ad4",
   "metadata": {},
   "outputs": [],
   "source": []
  }
 ],
 "metadata": {
  "kernelspec": {
   "display_name": "Python 3 (ipykernel)",
   "language": "python",
   "name": "python3"
  },
  "language_info": {
   "codemirror_mode": {
    "name": "ipython",
    "version": 3
   },
   "file_extension": ".py",
   "mimetype": "text/x-python",
   "name": "python",
   "nbconvert_exporter": "python",
   "pygments_lexer": "ipython3",
   "version": "3.10.8"
  }
 },
 "nbformat": 4,
 "nbformat_minor": 5
}
