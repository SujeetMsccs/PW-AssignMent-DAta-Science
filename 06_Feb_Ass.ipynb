{
 "cells": [
  {
   "cell_type": "raw",
   "id": "436c10b6-eeeb-412b-a6bb-84a7e34f1fc4",
   "metadata": {},
   "source": [
    "Q1. Create a function which will take a list as an argument and return the product of all the numbers\n",
    "after creating a flat list.\n",
    "Use the below-given list as an argument for your function.\n",
    "list1 = [1,2,3,4, [44,55,66, True], False, (34,56,78,89,34), {1,2,3,3,2,1}, {1:34, \"key2\": [55, 67, 78, 89], 4: (45,\n",
    "22, 61, 34)}, [56, 'data science'], 'Machine Learning']\n",
    "Note: you must extract numeric keys and values of the dictionary also."
   ]
  },
  {
   "cell_type": "code",
   "execution_count": 1,
   "id": "4181c2ba-a3ca-4e95-82c9-ccc90d70a202",
   "metadata": {},
   "outputs": [
    {
     "name": "stdout",
     "output_type": "stream",
     "text": [
      "4134711838987085478833841242112000\n"
     ]
    }
   ],
   "source": [
    "list1 = [1,2,3,4, [44,55,66, True], False, (34,56,78,89,34), {1,2,3,3,2,1}, {1:34, \"key2\": [55, 67, 78, 89], 4: (45,\n",
    "22, 61, 34)}, [56, 'data science'], 'Machine Learning']\n",
    "from functools import reduce \n",
    " \n",
    "def fnum(l):\n",
    "    \n",
    "    def fil(x,y):\n",
    "        if type(x) == int or type(x) == float:\n",
    "            y.append(x)\n",
    "        if type(x) == list or type(x) == tuple or type(x) == set:\n",
    "            for b in x:\n",
    "                y.append(b)\n",
    "                \n",
    "    fl = []\n",
    "    for a in l:\n",
    "        fil(a,fl)\n",
    "        if type(a) == dict:\n",
    "            for c in list(a.keys()):\n",
    "                fil(c,fl)\n",
    "            for e in list(a.values()):\n",
    "                fil(e,fl)\n",
    "            \n",
    "    o = list(filter(lambda x:type(x) == int,fl))\n",
    "    return o\n",
    "#### Execution \n",
    "final = fnum(list1)\n",
    "print(reduce(lambda x,y:x*y,final))         "
   ]
  },
  {
   "cell_type": "markdown",
   "id": "c93fd075-6847-4f3b-9d39-dc19e7856ad0",
   "metadata": {},
   "source": [
    "Q2. Write a python program for encrypting a message sent to you by your friend. The logic of encryption\n",
    "should be such that, for a the output should be z. For b, the output should be y. For c, the output should\n",
    "be x respectively. Also, the whitespace should be replaced with a dollar sign. Keep the punctuation\n",
    "marks unchanged.\n",
    "Input Sentence: I want to become a Data Scientist.\n",
    "Encrypt the above input sentence using the program you just created."
   ]
  },
  {
   "cell_type": "code",
   "execution_count": 2,
   "id": "91b81ad7-8138-416e-80bc-7ac5e12321a8",
   "metadata": {},
   "outputs": [
    {
     "name": "stdout",
     "output_type": "stream",
     "text": [
      "r$wzmg$gl$yvxlmv$z$wzgz$hxrvmgrhg.\n"
     ]
    }
   ],
   "source": [
    "\n",
    "inp = 'I want to become a .'.lower()  \n",
    "o = inp                                            \n",
    "l = ' abcdefghijklmnopqrstuvwxyz$'               \n",
    "for a in inp:                                      \n",
    "    i = l.find(a)                                 \n",
    "    if i == -1 and a != l[-1]:                     \n",
    "        pass\n",
    "    else:\n",
    "        o = o.replace(a,l[-(i+1)])                  \n",
    "print(o)"
   ]
  },
  {
   "cell_type": "code",
   "execution_count": null,
   "id": "9fc8bf6f-8a1e-48e2-9c9b-1db1a3272d7a",
   "metadata": {},
   "outputs": [],
   "source": []
  }
 ],
 "metadata": {
  "kernelspec": {
   "display_name": "Python 3 (ipykernel)",
   "language": "python",
   "name": "python3"
  },
  "language_info": {
   "codemirror_mode": {
    "name": "ipython",
    "version": 3
   },
   "file_extension": ".py",
   "mimetype": "text/x-python",
   "name": "python",
   "nbconvert_exporter": "python",
   "pygments_lexer": "ipython3",
   "version": "3.10.8"
  }
 },
 "nbformat": 4,
 "nbformat_minor": 5
}
