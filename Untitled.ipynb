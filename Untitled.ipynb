{
 "cells": [
  {
   "cell_type": "raw",
   "id": "10dc2fd3-7ff8-4d68-847f-8ab614fa0c23",
   "metadata": {},
   "source": [
    "\n",
    "Q1. What is an Expection in python?  Write the difference between Exceptions and syntax errors\n",
    "\n",
    "\n",
    "\n",
    "In Python, an exception is an event that occurs during the execution of a program, which disrupts the normal flow of the program's instructions. When an exception occurs, the program stops executing the current statements and jumps to a special block of code called an exception handler, which can catch and handle the exception.\n",
    "\n",
    "\n",
    "\n",
    "in summary, the main differences between exceptions and syntax errors are as follows:\n",
    "\n",
    "Exceptions occur during program execution when an exceptional condition arises, while syntax errors are detected by the Python interpreter during the parsing phase before execution.\n",
    "Exceptions disrupt the normal flow of the program and can be caught and handled using exception handling mechanisms, whereas syntax errors immediately halt the execution of the program.\n",
    "Exceptions are caused by factors such as invalid inputs, resource unavailability, or unexpected behaviors, while syntax errors are caused by violations of the programming language's syntax rules.\n",
    "Exceptions can be anticipated and handled with appropriate code, while syntax errors require fixing the code before execution.\n"
   ]
  },
  {
   "cell_type": "markdown",
   "id": "0b52c56e-bb13-471c-b022-7633d063434a",
   "metadata": {},
   "source": [
    "Q2.  What happens when an exception is not handled? Explain with an example"
   ]
  },
  {
   "cell_type": "raw",
   "id": "ba0d946e-cec3-4b87-8248-2a16a5d79bfb",
   "metadata": {},
   "source": [
    "If an exception is not handled:\n",
    "\n",
    "The program execution is halted abruptly.\n",
    "An error message is displayed, indicating the type of exception and the line of code where it occurred.\n",
    "It helps identify and debug issues in the code.\n",
    "Example:"
   ]
  },
  {
   "cell_type": "code",
   "execution_count": 1,
   "id": "4abc1207-7b4f-4bd1-85fa-bbbb7b6146be",
   "metadata": {},
   "outputs": [
    {
     "ename": "ZeroDivisionError",
     "evalue": "division by zero",
     "output_type": "error",
     "traceback": [
      "\u001b[0;31m---------------------------------------------------------------------------\u001b[0m",
      "\u001b[0;31mZeroDivisionError\u001b[0m                         Traceback (most recent call last)",
      "Cell \u001b[0;32mIn[1], line 8\u001b[0m\n\u001b[1;32m      5\u001b[0m num1 \u001b[38;5;241m=\u001b[39m \u001b[38;5;241m10\u001b[39m\n\u001b[1;32m      6\u001b[0m num2 \u001b[38;5;241m=\u001b[39m \u001b[38;5;241m0\u001b[39m\n\u001b[0;32m----> 8\u001b[0m result \u001b[38;5;241m=\u001b[39m \u001b[43mdivide_numbers\u001b[49m\u001b[43m(\u001b[49m\u001b[43mnum1\u001b[49m\u001b[43m,\u001b[49m\u001b[43m \u001b[49m\u001b[43mnum2\u001b[49m\u001b[43m)\u001b[49m\n\u001b[1;32m      9\u001b[0m \u001b[38;5;28mprint\u001b[39m(\u001b[38;5;124m\"\u001b[39m\u001b[38;5;124mResult:\u001b[39m\u001b[38;5;124m\"\u001b[39m, result)\n",
      "Cell \u001b[0;32mIn[1], line 2\u001b[0m, in \u001b[0;36mdivide_numbers\u001b[0;34m(a, b)\u001b[0m\n\u001b[1;32m      1\u001b[0m \u001b[38;5;28;01mdef\u001b[39;00m \u001b[38;5;21mdivide_numbers\u001b[39m(a, b):\n\u001b[0;32m----> 2\u001b[0m     result \u001b[38;5;241m=\u001b[39m \u001b[43ma\u001b[49m\u001b[43m \u001b[49m\u001b[38;5;241;43m/\u001b[39;49m\u001b[43m \u001b[49m\u001b[43mb\u001b[49m\n\u001b[1;32m      3\u001b[0m     \u001b[38;5;28;01mreturn\u001b[39;00m result\n",
      "\u001b[0;31mZeroDivisionError\u001b[0m: division by zero"
     ]
    }
   ],
   "source": [
    "def divide_numbers(a, b):\n",
    "    result = a / b\n",
    "    return result\n",
    "\n",
    "num1 = 10\n",
    "num2 = 0\n",
    "\n",
    "result = divide_numbers(num1, num2)\n",
    "print(\"Result:\", result)\n"
   ]
  },
  {
   "cell_type": "markdown",
   "id": "058ef141-a321-4dda-94e2-038a5ab8417b",
   "metadata": {},
   "source": [
    "In this code, a ZeroDivisionError occurs when dividing num1 by num2.\n",
    "Since the exception is not handled, the program execution stops, and an error message is shown.\n",
    "To handle the exception, you can use a try-except block to catch the ZeroDivisionError and handle it gracefully."
   ]
  },
  {
   "cell_type": "raw",
   "id": "4bf6112d-e426-4849-9505-444e48f78326",
   "metadata": {},
   "source": [
    "Q3.Which Python statements are used to ,catch and handle ex,eptions? Explatin with an example"
   ]
  },
  {
   "cell_type": "markdown",
   "id": "844051bd-c086-431f-9bd5-1b19f00dfff7",
   "metadata": {},
   "source": [
    "In Python, the try and except statements are used to catch and handle exceptions. The try block contains the code that may raise an exception, while the except block specifies how to handle the exception if it occurs.\n",
    "\n",
    "Here's an example that demonstrates the use of try and except statements:"
   ]
  },
  {
   "cell_type": "code",
   "execution_count": 2,
   "id": "aee491ce-5cb3-4ab8-b5b1-0a52c81de97b",
   "metadata": {},
   "outputs": [
    {
     "name": "stdout",
     "output_type": "stream",
     "text": [
      "Error: Cannot divide by zero\n"
     ]
    }
   ],
   "source": [
    "def divide_numbers(a, b):\n",
    "    try:\n",
    "        result = a / b\n",
    "        return result\n",
    "    except ZeroDivisionError:\n",
    "        print(\"Error: Cannot divide by zero\")\n",
    "        return None\n",
    "\n",
    "num1 = 10\n",
    "num2 = 0\n",
    "\n",
    "result = divide_numbers(num1, num2)\n",
    "if result is not None:\n",
    "    print(\"Result:\", result)\n"
   ]
  },
  {
   "cell_type": "markdown",
   "id": "82a96e83-73fb-40a5-8dbc-74ddbc0bcc48",
   "metadata": {},
   "source": [
    "In this example, the divide_numbers function attempts to divide num1 by num2. However, since num2 is set to zero, it would raise a ZeroDivisionError exception. To handle this exception:\n",
    "\n",
    "The division operation is placed inside the try block.\n",
    "If a ZeroDivisionError occurs, the code in the except block is executed.\n",
    "In the except block, an error message is printed: \"Error: Cannot divide by zero.\"\n",
    "The function returns None to indicate that an error occurred.\n",
    "By using the try and except statements, the program gracefully handles the exception and continues execution. If the division operation succeeds without any exception, the result is printed.\n",
    "\n",
    "Output:"
   ]
  },
  {
   "cell_type": "code",
   "execution_count": 3,
   "id": "5f867ec4-8904-44e4-9057-66cd63c06d70",
   "metadata": {},
   "outputs": [
    {
     "ename": "SyntaxError",
     "evalue": "invalid syntax (2245769370.py, line 1)",
     "output_type": "error",
     "traceback": [
      "\u001b[0;36m  Cell \u001b[0;32mIn[3], line 1\u001b[0;36m\u001b[0m\n\u001b[0;31m    Error: Cannot divide by zero\u001b[0m\n\u001b[0m                  ^\u001b[0m\n\u001b[0;31mSyntaxError\u001b[0m\u001b[0;31m:\u001b[0m invalid syntax\n"
     ]
    }
   ],
   "source": [
    "Error: Cannot divide by zero\n"
   ]
  },
  {
   "cell_type": "markdown",
   "id": "4660a3d3-83bc-4975-80b4-3f919de18d87",
   "metadata": {},
   "source": [
    "The try statement allows you to wrap potentially error-prone code, and the except statement enables you to define how to handle specific exceptions. This approach helps in writing robust and fault-tolerant code by gracefully dealing with exceptional situations."
   ]
  },
  {
   "cell_type": "markdown",
   "id": "cdcef958-c0fa-4693-9d02-706d90861d72",
   "metadata": {},
   "source": [
    "Q4. Explatin with an example:  try and else\n",
    "\n",
    " findlly\n",
    "\n",
    " raise"
   ]
  },
  {
   "cell_type": "raw",
   "id": "c44d9c1d-ec77-4322-939a-bc52074a1d8f",
   "metadata": {},
   "source": [
    "try and except: Used to catch and handle exceptions."
   ]
  },
  {
   "cell_type": "code",
   "execution_count": 5,
   "id": "2ec74524-96aa-4ac5-9000-3d8c77e95b12",
   "metadata": {},
   "outputs": [
    {
     "name": "stdout",
     "output_type": "stream",
     "text": [
      "Error: Cannot divide by zero\n"
     ]
    }
   ],
   "source": [
    "try:\n",
    "    result = 10 / 0\n",
    "except ZeroDivisionError:\n",
    "    print(\"Error: Cannot divide by zero\")\n"
   ]
  },
  {
   "cell_type": "raw",
   "id": "e5daef5e-8fb9-43c5-87d4-d93b46bb66e8",
   "metadata": {},
   "source": [
    "else: Executed when no exceptions occur in the try block."
   ]
  },
  {
   "cell_type": "code",
   "execution_count": 6,
   "id": "7f3041a8-7cc4-4821-821a-68ed80c3ec81",
   "metadata": {},
   "outputs": [
    {
     "name": "stdout",
     "output_type": "stream",
     "text": [
      "Division successful. Result: 5.0\n"
     ]
    }
   ],
   "source": [
    "try:\n",
    "    result = 10 / 2\n",
    "except ZeroDivisionError:\n",
    "    print(\"Error: Cannot divide by zero\")\n",
    "else:\n",
    "    print(\"Division successful. Result:\", result)\n"
   ]
  },
  {
   "cell_type": "raw",
   "id": "e453fec1-100c-4463-9d16-1f5e8bef6d93",
   "metadata": {},
   "source": [
    "finally: Always executed, regardless of whether an exception occurred or not"
   ]
  },
  {
   "cell_type": "code",
   "execution_count": 7,
   "id": "95994988-d90d-4d86-9366-ff95f95af3b9",
   "metadata": {},
   "outputs": [
    {
     "name": "stdout",
     "output_type": "stream",
     "text": [
      "Error: Cannot divide by zero\n",
      "Division operation completed.\n"
     ]
    }
   ],
   "source": [
    "try:\n",
    "    result = 10 / 0\n",
    "except ZeroDivisionError:\n",
    "    print(\"Error: Cannot divide by zero\")\n",
    "finally:\n",
    "    print(\"Division operation completed.\")\n"
   ]
  },
  {
   "cell_type": "markdown",
   "id": "e2fbb87a-014d-48dd-9860-e85ff1813a36",
   "metadata": {},
   "source": [
    "raise: Manually raises an exception.\n"
   ]
  },
  {
   "cell_type": "code",
   "execution_count": 8,
   "id": "f4ba509e-3da2-45af-b669-93e1f50e6159",
   "metadata": {},
   "outputs": [
    {
     "name": "stdout",
     "output_type": "stream",
     "text": [
      "Number is valid.\n",
      "Error: Number must be positive.\n"
     ]
    }
   ],
   "source": [
    "def validate_number(num):\n",
    "    try:\n",
    "        if num < 0:\n",
    "            raise ValueError(\"Number must be positive.\")\n",
    "        else:\n",
    "            print(\"Number is valid.\")\n",
    "    except ValueError as e:\n",
    "        print(\"Error:\", str(e))\n",
    "\n",
    "validate_number(5)\n",
    "validate_number(-1)\n"
   ]
  },
  {
   "cell_type": "markdown",
   "id": "85434518-9772-44f6-8b43-d0871583921a",
   "metadata": {},
   "source": [
    "try is used to enclose code that may raise an exception, except is used to catch and handle specific exceptions, else is executed when no exceptions occur, finally is always executed, and raise is used to manually raise exceptions. These statements allow for effective exception handling and control flow in Python programs.\n",
    "\n",
    "\n",
    "\n",
    "\n"
   ]
  },
  {
   "cell_type": "markdown",
   "id": "d59c01f0-407e-4711-9bbd-27cf61564e82",
   "metadata": {},
   "source": [
    "Q5. What are Custom Exceptions in python? Why do we need Custom Exceptions? Explain with an example"
   ]
  },
  {
   "cell_type": "raw",
   "id": "c4bee4de-23e0-42cf-a056-d7d4069feec1",
   "metadata": {},
   "source": [
    "Custom exceptions in Python are user-defined exception classes that allow programmers to create their own specific types of exceptions based on their application's needs. These exceptions inherit from the base Exception class or its subclasses.\n",
    "\n",
    "We need custom exceptions in Python to handle application-specific errors or exceptional conditions that are not covered by built-in exceptions. By creating custom exceptions, we can provide more meaningful and descriptive error messages, encapsulate application-specific logic, and distinguish different types of exceptions within our code.\n",
    "\n",
    "Example:"
   ]
  },
  {
   "cell_type": "code",
   "execution_count": 9,
   "id": "5bd5025f-6e40-4b7c-a375-716f0fe254aa",
   "metadata": {},
   "outputs": [
    {
     "name": "stdout",
     "output_type": "stream",
     "text": [
      "Insufficient funds. Amount: 1000, Balance: 500\n"
     ]
    }
   ],
   "source": [
    "class InsufficientFundsError(Exception):\n",
    "    def __init__(self, amount, balance):\n",
    "        self.amount = amount\n",
    "        self.balance = balance\n",
    "        super().__init__(f\"Insufficient funds. Amount: {amount}, Balance: {balance}\")\n",
    "\n",
    "def withdraw(amount, balance):\n",
    "    if amount > balance:\n",
    "        raise InsufficientFundsError(amount, balance)\n",
    "    else:\n",
    "        print(\"Withdrawal successful.\")\n",
    "\n",
    "try:\n",
    "    withdraw(1000, 500)\n",
    "except InsufficientFundsError as e:\n",
    "    print(str(e))\n"
   ]
  },
  {
   "cell_type": "raw",
   "id": "1624ae95-fcf9-4ad2-9d31-ef5d805b31b0",
   "metadata": {},
   "source": [
    "In summary:\n",
    "\n",
    "Custom exceptions are user-defined exception classes in Python.\n",
    "They allow programmers to handle application-specific errors.\n",
    "Custom exceptions provide meaningful error messages and encapsulate application-specific logic.\n",
    "They help distinguish different types of exceptions within the code"
   ]
  },
  {
   "cell_type": "raw",
   "id": "8c2793a9-2f73-4ce0-a2ea-243cf8ca6967",
   "metadata": {},
   "source": [
    "6.Create a custom exception class. Use this class to handle"
   ]
  },
  {
   "cell_type": "code",
   "execution_count": null,
   "id": "e1e5d93c-78f5-4390-845b-25a1c95d3f34",
   "metadata": {},
   "outputs": [],
   "source": []
  }
 ],
 "metadata": {
  "kernelspec": {
   "display_name": "Python 3 (ipykernel)",
   "language": "python",
   "name": "python3"
  },
  "language_info": {
   "codemirror_mode": {
    "name": "ipython",
    "version": 3
   },
   "file_extension": ".py",
   "mimetype": "text/x-python",
   "name": "python",
   "nbconvert_exporter": "python",
   "pygments_lexer": "ipython3",
   "version": "3.10.8"
  }
 },
 "nbformat": 4,
 "nbformat_minor": 5
}
