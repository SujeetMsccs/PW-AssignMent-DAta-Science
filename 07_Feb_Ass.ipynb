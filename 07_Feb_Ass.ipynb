{
 "cells": [
  {
   "cell_type": "raw",
   "id": "55ea3ffd-c7fd-440f-af81-93232edc9751",
   "metadata": {},
   "source": [
    "Q1. You are writing code for a company. The requirement of the company is that you create a python\n",
    "function that will check whether the password entered by the user is correct or not. The function should\n",
    "take the password as input and return the string “Valid Password” if the entered password follows the\n",
    "below-given password guidelines else it should return “Invalid Password”.\n",
    "Note: 1. The Password should contain at least two uppercase letters and at least two lowercase letters.\n",
    "2. The Password should contain at least a number and three special characters.\n",
    "3. The length of the password should be 10 characters long."
   ]
  },
  {
   "cell_type": "code",
   "execution_count": 6,
   "id": "6cf99f65-c20a-4e13-8384-96d342d3a41c",
   "metadata": {},
   "outputs": [
    {
     "name": "stdin",
     "output_type": "stream",
     "text": [
      "Enter your password :- SUjeet@#$1\n"
     ]
    },
    {
     "data": {
      "text/plain": [
       "'Valid Password'"
      ]
     },
     "execution_count": 6,
     "metadata": {},
     "output_type": "execute_result"
    }
   ],
   "source": [
    "\n",
    "def password():\n",
    "    u,d,l,sp = 0,0,0,0\n",
    "    p = input('Enter your password :-')\n",
    "    for a in p:\n",
    "        if a.isupper() == True:\n",
    "            u+=1\n",
    "        elif a.islower() == True :\n",
    "            l+=1\n",
    "        if a.isdigit() == True:\n",
    "            d+=1\n",
    "        elif a.isalnum() == False:\n",
    "            sp+= 1\n",
    "    if u>=2 and l>=2 and d>=1 and sp>=3 and len(p) == 10:\n",
    "        return 'Valid Password'\n",
    "    else:\n",
    "        return 'Invalid Password' \n",
    "\n",
    "password()"
   ]
  },
  {
   "cell_type": "raw",
   "id": "1c23abb5-4533-4d82-9606-53607f398e7c",
   "metadata": {},
   "source": [
    "Q2. Solve the below-given questions using at least one of the following:\n",
    "1. Lambda functioJ\n",
    "2. Filter functioJ\n",
    "3. Zap functioJ\n",
    "4. List ComprehensioI\n",
    "B Check if the string starts with a particular letterY\n",
    "B Check if the string is numericY\n",
    "B Sort a list of tuples having fruit names and their quantity. [(\"mango\",99),(\"orange\",80), (\"grapes\", 1000)-\n",
    "B Find the squares of numbers from 1 to 10Y\n",
    "B Find the cube root of numbers from 1 to 10Y\n",
    "B Check if a given number is evenY\n",
    "B Filter odd numbers from the given list.\n",
    "[1,2,3,4,5,6,7,8,9,10-\n",
    "B Sort a list of integers into positive and negative integers lists.\n",
    "[1,2,3,4,5,6,-1,-2,-3,-4,-5,0]"
   ]
  },
  {
   "cell_type": "code",
   "execution_count": null,
   "id": "f18298e3-d4f2-4750-80d7-5154fadcad04",
   "metadata": {},
   "outputs": [],
   "source": [
    "\n",
    "### Creating functions for all \n",
    "#1 Check if the string starts with a particular letter :-\n",
    "char = lambda s,c : s[0] == c\n",
    "#2 Check if the string is numeric\n",
    "num = lambda s : s.isnumeric()\n",
    "#3 Sort a list of tuples having fruit names and their quantity.\n",
    "sort = lambda t:sorted(t,key = lambda x:x[1])\n",
    "#4 Find the squares of numbers from 1 to 10\n",
    "sq = [i**2 for i in range(1,11)]\n",
    "#5 Find the cube root of numbers from 1 to 10\n",
    "cbr = [i**(1/3) for i in range(1,11)]\n",
    "#6 Check if a given number is even\n",
    "even = lambda x:x%2 == 0\n",
    "#7 Filter odd numbers from the given list.\n",
    "l1 = [1,2,3,4,5,6,7,8,9,10]\n",
    "fodd = list(filter(lambda y:y%2 != 0 ,l1))\n",
    "#8 Sort a list of integers into positive and negative integers lists.\n",
    "l2 = [1,2,3,4,5,6,-1,-2,-3,-4,-5,0]\n",
    "positive = [z for z in l2 if z>0]\n",
    "negative = [w for w in l2 if w<0]"
   ]
  }
 ],
 "metadata": {
  "kernelspec": {
   "display_name": "Python 3 (ipykernel)",
   "language": "python",
   "name": "python3"
  },
  "language_info": {
   "codemirror_mode": {
    "name": "ipython",
    "version": 3
   },
   "file_extension": ".py",
   "mimetype": "text/x-python",
   "name": "python",
   "nbconvert_exporter": "python",
   "pygments_lexer": "ipython3",
   "version": "3.10.8"
  }
 },
 "nbformat": 4,
 "nbformat_minor": 5
}
