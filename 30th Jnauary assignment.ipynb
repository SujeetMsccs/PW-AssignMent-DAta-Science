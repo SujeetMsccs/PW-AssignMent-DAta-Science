{
 "cells": [
  {
   "cell_type": "code",
   "execution_count": 1,
   "id": "47f54934-94d1-4752-bcb6-771aa33b2ffb",
   "metadata": {},
   "outputs": [],
   "source": [
    "#Q1. write a programm to accept a percentage from the user and display the grade according to following criteria"
   ]
  },
  {
   "cell_type": "code",
   "execution_count": 3,
   "id": "5629d795-d586-4041-a290-d4c8bb46697d",
   "metadata": {},
   "outputs": [
    {
     "name": "stdin",
     "output_type": "stream",
     "text": [
      "Enter Your  Name sujeet kumar\n",
      "Enter Your Marks 85\n"
     ]
    },
    {
     "name": "stdout",
     "output_type": "stream",
     "text": [
      "Sujeet Kumar your Grade is   B\n"
     ]
    }
   ],
   "source": [
    "name=input(\"Enter Your  Name\")\n",
    "marks=int(input(\"Enter Your Marks\"))\n",
    "if marks>90:\n",
    "    print(f\"{name.lower().title()} your Grade is   A\")\n",
    "elif marks>80 and marks<=90:\n",
    "    print(f\"{name.lower().title()} your Grade is   B\")\n",
    "elif marks>=60 and marks<=80:\n",
    "    print(f\"{name.lower().title()} your Grade is   C\")\n",
    "else:\n",
    "    print(f\"{name.lower().title()} your Grade is  D\")"
   ]
  },
  {
   "cell_type": "code",
   "execution_count": 4,
   "id": "16d6d8c4-da51-4f4a-80da-eaf7d77801b2",
   "metadata": {},
   "outputs": [],
   "source": [
    "#Q2. write a programm to accept a  cost price of a bike and display road tax to be paid according to the following criteria"
   ]
  },
  {
   "cell_type": "code",
   "execution_count": 8,
   "id": "44d68707-6ce4-4564-b7c1-4ad60a590fd2",
   "metadata": {},
   "outputs": [
    {
     "name": "stdin",
     "output_type": "stream",
     "text": [
      "Enter the Cost Price of the bike   2589\n"
     ]
    },
    {
     "name": "stdout",
     "output_type": "stream",
     "text": [
      "the road tax to be paid is 5% and the amount is    129.45\n"
     ]
    }
   ],
   "source": [
    "cost_price=int(input(\"Enter the Cost Price of the bike  \"))\n",
    "if cost_price>100000:\n",
    "    print(f\"the road tax to be paid is 15% and the amount is     {(cost_price*15)/100}\")\n",
    "elif cost_price>50000 and cost_price<=100000:\n",
    "    print(f\"the road tax to be paid is 10% and the amount is      {(cost_price*10)/100}\")\n",
    "else:\n",
    "    print(f\"the road tax to be paid is 5% and the amount is    {(cost_price*5)/100}\")"
   ]
  },
  {
   "cell_type": "code",
   "execution_count": 9,
   "id": "6ef91202-0e3f-456e-8479-8b390fcec373",
   "metadata": {},
   "outputs": [],
   "source": [
    "#Q3. accept any city from the user and display moments of the city"
   ]
  },
  {
   "cell_type": "code",
   "execution_count": 14,
   "id": "968559fe-27cd-43af-91a9-d310e8d2d2fd",
   "metadata": {},
   "outputs": [
    {
     "name": "stdin",
     "output_type": "stream",
     "text": [
      "Enter the City Monumnet you want agra\n"
     ]
    },
    {
     "name": "stdout",
     "output_type": "stream",
     "text": [
      "\n",
      "The Monument of agra is 'Taj Mahal'\n"
     ]
    }
   ],
   "source": [
    "city= input(\"Enter the City Monumnet you want\")\n",
    "city=city.lower()\n",
    "print()\n",
    "if city==\"delhi\":\n",
    "    print(f\"The Monument of {city} is 'RED FORT' \")\n",
    "elif city==\"agra\":\n",
    "          print(f\"The Monument of {city} is 'Taj Mahal'\")\n",
    "elif city==\"jaipur\":\n",
    "          print(f\"The Monument of {city} is 'Jal Mahal' \")"
   ]
  },
  {
   "cell_type": "code",
   "execution_count": 15,
   "id": "f4611851-e3ad-4c1f-8276-030e2ac3b77a",
   "metadata": {},
   "outputs": [],
   "source": [
    "#q4. Check hoe Many Time a given number can be divided by 3 before it is lessthan or equal to 10."
   ]
  },
  {
   "cell_type": "code",
   "execution_count": 20,
   "id": "1d1d172c-028c-44e6-8f0b-0f7a9d23f124",
   "metadata": {},
   "outputs": [
    {
     "name": "stdin",
     "output_type": "stream",
     "text": [
      "Ente The Number you Want To See      452\n"
     ]
    },
    {
     "name": "stdout",
     "output_type": "stream",
     "text": [
      "Total iteration required 4\n"
     ]
    }
   ],
   "source": [
    "number = int(input(\"Ente The Number you Want To See     \"))\n",
    "\n",
    "count_x = 0\n",
    "\n",
    "while number > 10:\n",
    "            # divide the number by 3\n",
    "    number = number / 3\n",
    "            # increase count\n",
    "    count_x = count_x + 1\n",
    "print('Total iteration required', count_x)"
   ]
  },
  {
   "cell_type": "code",
   "execution_count": 21,
   "id": "6c828619-c0f1-4248-bdf3-e31a7417bcec",
   "metadata": {},
   "outputs": [],
   "source": [
    "#Q5. Why & When to Use While Loop in Python give a detailed description with example."
   ]
  },
  {
   "cell_type": "code",
   "execution_count": 29,
   "id": "c86419c1-2601-4549-b846-04185d474c88",
   "metadata": {},
   "outputs": [
    {
     "name": "stdin",
     "output_type": "stream",
     "text": [
      "enter number want to u print 55\n"
     ]
    },
    {
     "name": "stdout",
     "output_type": "stream",
     "text": [
      "1 2 3 4 5 6 7 8 9 10 11 12 13 14 15 16 17 18 19 20 21 22 23 24 25 26 27 28 29 30 31 32 33 34 35 36 37 38 39 40 41 42 43 44 45 46 47 48 49 50 51 52 53 54 "
     ]
    }
   ],
   "source": [
    "# For loop:\n",
    "## When we know how many itration need to be done\n",
    "\n",
    "\n",
    "number = int(input(\"enter number want to u print\"))\n",
    "for i in range(1,number):\n",
    "    print(i, end=\" \")"
   ]
  },
  {
   "cell_type": "code",
   "execution_count": 30,
   "id": "61be975e-efeb-48c7-b208-6d3eaed2e076",
   "metadata": {},
   "outputs": [
    {
     "name": "stdin",
     "output_type": "stream",
     "text": [
      "Do you want to start y/n ? y\n",
      "Type n if you wnat to close the game? y\n"
     ]
    },
    {
     "name": "stdout",
     "output_type": "stream",
     "text": [
      "\n",
      "\n",
      "hello world\n",
      "\n",
      "\n",
      " Welcome to while loop\n",
      "\n"
     ]
    },
    {
     "name": "stdin",
     "output_type": "stream",
     "text": [
      "Type n if you wnat to close the game? y\n"
     ]
    },
    {
     "name": "stdout",
     "output_type": "stream",
     "text": [
      "\n",
      "\n",
      "hello world\n",
      "\n",
      "\n",
      " Welcome to while loop\n",
      "\n"
     ]
    },
    {
     "name": "stdin",
     "output_type": "stream",
     "text": [
      "Type n if you wnat to close the game? n\n"
     ]
    }
   ],
   "source": [
    "# While loop\n",
    "\n",
    "\n",
    "# When we don't know how many times we need to do the iteartion\n",
    "\n",
    "\n",
    "# take the input\n",
    "ex = input('Do you want to start y/n ?')\n",
    "\n",
    "# make the condition \n",
    "while ex!='n':\n",
    "    ex= input('Type n if you wnat to close the game?')\n",
    "    while ex==\"n\": # create the 2nd condition\n",
    "        break # break the while loop if user watns to close\n",
    "    else:\n",
    "        print()\n",
    "        print()\n",
    "        print(\"hello world\\n\\n\\n Welcome to while loop\")\n",
    "        print()\n",
    "    "
   ]
  },
  {
   "cell_type": "code",
   "execution_count": 31,
   "id": "cd60e9f0-ba7e-442f-ba3f-a2397207be77",
   "metadata": {},
   "outputs": [],
   "source": [
    "#6. use nested while loop to print 3 diffrent ptterns"
   ]
  },
  {
   "cell_type": "code",
   "execution_count": 32,
   "id": "baa28773-86c8-43ad-b686-76380e46a151",
   "metadata": {},
   "outputs": [
    {
     "name": "stdin",
     "output_type": "stream",
     "text": [
      "Enter the number of rows:  5\n"
     ]
    },
    {
     "name": "stdout",
     "output_type": "stream",
     "text": [
      "* \n",
      "* * \n",
      "* * * \n",
      "* * * * \n",
      "* * * * * \n"
     ]
    }
   ],
   "source": [
    "\n",
    "#pattern 1\n",
    "\n",
    "def pattern(n):\n",
    "   i = 1\n",
    "   while i <= n :\n",
    "      j = 1\n",
    "      while j <= i:\n",
    "         # printing stars\n",
    "         print(\"*\", end=\" \")\n",
    "         j = j + 1\n",
    "      print()\n",
    "      i = i + 1\n",
    " \n",
    "# take inputs\n",
    "n = int(input('Enter the number of rows: '))\n",
    "\n",
    "# calling function\n",
    "pattern(n)"
   ]
  },
  {
   "cell_type": "code",
   "execution_count": 33,
   "id": "36df9d43-7099-4bb1-989e-25c34f708d14",
   "metadata": {},
   "outputs": [
    {
     "name": "stdin",
     "output_type": "stream",
     "text": [
      "Enter the number of rows:  5\n"
     ]
    },
    {
     "name": "stdout",
     "output_type": "stream",
     "text": [
      "* * * * * \n",
      "* * * * \n",
      "* * * \n",
      "* * \n",
      "* \n"
     ]
    }
   ],
   "source": [
    "# #pattern 2\n",
    "\n",
    "def pattern(n):\n",
    "   i = 1\n",
    "   while i <= n :\n",
    "      j = n\n",
    "      while j >= i:\n",
    "         # printing stars\n",
    "         print(\"*\", end=\" \")\n",
    "         j = j - 1\n",
    "      print()\n",
    "      i = i + 1\n",
    " \n",
    "# take inputs\n",
    "n = int(input('Enter the number of rows: '))\n",
    "\n",
    "# calling function\n",
    "pattern(n)"
   ]
  },
  {
   "cell_type": "code",
   "execution_count": 35,
   "id": "5700e96c-97ff-45ac-a6ca-d8fb72b79d5c",
   "metadata": {},
   "outputs": [],
   "source": [
    "#Q7. Reverse a while loop to display number from 10 to 1"
   ]
  },
  {
   "cell_type": "code",
   "execution_count": 34,
   "id": "523d1166-71d9-4e71-80bc-bdd4c57035af",
   "metadata": {},
   "outputs": [
    {
     "name": "stdin",
     "output_type": "stream",
     "text": [
      "Enter number of rows= 5\n"
     ]
    },
    {
     "name": "stdout",
     "output_type": "stream",
     "text": [
      "        * \n",
      "      * * \n",
      "    * * * \n",
      "  * * * * \n",
      "* * * * * \n",
      "  * * * * \n",
      "    * * * \n",
      "      * * \n",
      "        * \n",
      "          \n"
     ]
    }
   ],
   "source": [
    "#Pattern 3\n",
    "rows = int(input(\"Enter number of rows=\"))\n",
    "i = 1\n",
    "while i <= rows:\n",
    "    j = i\n",
    "    while j < rows:\n",
    "        # printing spaces before stars\n",
    "        print(' ', end=' ')\n",
    "        j += 1\n",
    "    k = 1\n",
    "    # print stars\n",
    "    while k <= i:\n",
    "        print('*', end=' ')\n",
    "        k += 1\n",
    "    print()\n",
    "    i += 1\n",
    "# for downside output of star pattern\n",
    "i = rows\n",
    "while i >= 1:\n",
    "    j = i\n",
    "    while j <= rows:\n",
    "        print(' ', end=' ')\n",
    "        j += 1\n",
    "    k = 1\n",
    "    while k < i:\n",
    "        print('*', end=' ')\n",
    "        k += 1\n",
    "    print('')\n",
    "    i -= 1"
   ]
  },
  {
   "cell_type": "code",
   "execution_count": 37,
   "id": "58bad659-dd57-44bc-9023-2ab68273f326",
   "metadata": {},
   "outputs": [
    {
     "name": "stdout",
     "output_type": "stream",
     "text": [
      "10\n",
      "9\n",
      "8\n",
      "7\n",
      "6\n",
      "5\n",
      "4\n",
      "3\n",
      "2\n",
      "1\n"
     ]
    }
   ],
   "source": [
    "n =10 # here n = number\n",
    "c=1    # c = count\n",
    "m=(list(range(1,n+1)))\n",
    "l=len(m)\n",
    "while c<=10:\n",
    "    \n",
    "    print(m[l-1])\n",
    "    l=l-1\n",
    "    \n",
    "    c=c+1"
   ]
  },
  {
   "cell_type": "code",
   "execution_count": 38,
   "id": "c33c9541-aba3-4754-9b3a-0b1558c06bb4",
   "metadata": {},
   "outputs": [],
   "source": [
    "#Q8.   Reverse a while loop to display number from 10 to 1"
   ]
  },
  {
   "cell_type": "code",
   "execution_count": 39,
   "id": "9d1ced58-f4cb-4cfc-9693-0b367152ee22",
   "metadata": {},
   "outputs": [
    {
     "name": "stdout",
     "output_type": "stream",
     "text": [
      "10\n",
      "9\n",
      "8\n",
      "7\n",
      "6\n",
      "5\n",
      "4\n",
      "3\n",
      "2\n",
      "1\n"
     ]
    }
   ],
   "source": [
    "n =10 # here n = number\n",
    "c=1    # c = count\n",
    "m=(list(range(1,n+1)))\n",
    "l=len(m)\n",
    "while c<=10:\n",
    "    \n",
    "    print(m[l-1])\n",
    "    l=l-1\n",
    "    \n",
    "    c=c+1"
   ]
  },
  {
   "cell_type": "code",
   "execution_count": null,
   "id": "aaa6b612-bb97-4c72-9758-8bfad74373e9",
   "metadata": {},
   "outputs": [],
   "source": []
  }
 ],
 "metadata": {
  "kernelspec": {
   "display_name": "Python 3 (ipykernel)",
   "language": "python",
   "name": "python3"
  },
  "language_info": {
   "codemirror_mode": {
    "name": "ipython",
    "version": 3
   },
   "file_extension": ".py",
   "mimetype": "text/x-python",
   "name": "python",
   "nbconvert_exporter": "python",
   "pygments_lexer": "ipython3",
   "version": "3.10.8"
  }
 },
 "nbformat": 4,
 "nbformat_minor": 5
}
